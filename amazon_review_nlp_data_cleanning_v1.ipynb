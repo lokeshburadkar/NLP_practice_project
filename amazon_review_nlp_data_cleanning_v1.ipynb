{
 "cells": [
  {
   "cell_type": "code",
   "execution_count": 209,
   "metadata": {},
   "outputs": [],
   "source": [
    "ref_lin=\"https://towardsdatascience.com/topic-modeling-with-nlp-on-amazon-reviews-an-application-of-latent-dirichlet-allocation-lda-ae42a4c8b369\"\n",
    "data_prep_link=\"https://medium.com/analytics-vidhya/text-preprocessing-for-nlp-natural-language-processing-beginners-to-master-fd82dfecf95\""
   ]
  },
  {
   "cell_type": "code",
   "execution_count": null,
   "metadata": {},
   "outputs": [],
   "source": [
    "### imp preprocessing link\n",
    "# https://www.geeksforgeeks.org/python-extract-hashtags-from-text/?ref=rp\n",
    "# https://www.geeksforgeeks.org/generating-word-cloud-python/\n",
    "# https://towardsdatascience.com/create-a-complete-machine-learning-web-application-using-react-and-flask-859340bddb33\n",
    "# https://medium.com/analytics-vidhya/text-preprocessing-for-nlp-natural-language-processing-beginners-to-master-fd82dfecf95"
   ]
  },
  {
   "cell_type": "code",
   "execution_count": null,
   "metadata": {},
   "outputs": [],
   "source": [
    "#  course and practical examples\n",
    "\n",
    "# https://www.youtube.com/playlist?list=PLtmWHNX-gukKocXQOkQjuVxglSDYWsSh9\n",
    "# https://github.com/fastai/course-nlp"
   ]
  },
  {
   "cell_type": "code",
   "execution_count": 189,
   "metadata": {},
   "outputs": [],
   "source": [
    "import pandas as pd\n",
    "import numpy as np\n",
    "import os\n",
    "import warnings\n",
    "warnings.filterwarnings(\"ignore\")"
   ]
  },
  {
   "cell_type": "code",
   "execution_count": 193,
   "metadata": {},
   "outputs": [
    {
     "name": "stdout",
     "output_type": "stream",
     "text": [
      "****************************************************************************************************\n",
      "shape of data is: (568454, 10)\n",
      "****************************************************************************************************\n"
     ]
    },
    {
     "data": {
      "text/html": [
       "<div>\n",
       "<style scoped>\n",
       "    .dataframe tbody tr th:only-of-type {\n",
       "        vertical-align: middle;\n",
       "    }\n",
       "\n",
       "    .dataframe tbody tr th {\n",
       "        vertical-align: top;\n",
       "    }\n",
       "\n",
       "    .dataframe thead th {\n",
       "        text-align: right;\n",
       "    }\n",
       "</style>\n",
       "<table border=\"1\" class=\"dataframe\">\n",
       "  <thead>\n",
       "    <tr style=\"text-align: right;\">\n",
       "      <th></th>\n",
       "      <th>Id</th>\n",
       "      <th>ProductId</th>\n",
       "      <th>UserId</th>\n",
       "      <th>ProfileName</th>\n",
       "      <th>HelpfulnessNumerator</th>\n",
       "      <th>HelpfulnessDenominator</th>\n",
       "      <th>Score</th>\n",
       "      <th>Time</th>\n",
       "      <th>Summary</th>\n",
       "      <th>Text</th>\n",
       "    </tr>\n",
       "  </thead>\n",
       "  <tbody>\n",
       "    <tr>\n",
       "      <th>0</th>\n",
       "      <td>1</td>\n",
       "      <td>B001E4KFG0</td>\n",
       "      <td>A3SGXH7AUHU8GW</td>\n",
       "      <td>delmartian</td>\n",
       "      <td>1</td>\n",
       "      <td>1</td>\n",
       "      <td>5</td>\n",
       "      <td>1303862400</td>\n",
       "      <td>Good Quality Dog Food</td>\n",
       "      <td>I have bought several of the Vitality canned d...</td>\n",
       "    </tr>\n",
       "    <tr>\n",
       "      <th>1</th>\n",
       "      <td>2</td>\n",
       "      <td>B00813GRG4</td>\n",
       "      <td>A1D87F6ZCVE5NK</td>\n",
       "      <td>dll pa</td>\n",
       "      <td>0</td>\n",
       "      <td>0</td>\n",
       "      <td>1</td>\n",
       "      <td>1346976000</td>\n",
       "      <td>Not as Advertised</td>\n",
       "      <td>Product arrived labeled as Jumbo Salted Peanut...</td>\n",
       "    </tr>\n",
       "    <tr>\n",
       "      <th>2</th>\n",
       "      <td>3</td>\n",
       "      <td>B000LQOCH0</td>\n",
       "      <td>ABXLMWJIXXAIN</td>\n",
       "      <td>Natalia Corres \"Natalia Corres\"</td>\n",
       "      <td>1</td>\n",
       "      <td>1</td>\n",
       "      <td>4</td>\n",
       "      <td>1219017600</td>\n",
       "      <td>\"Delight\" says it all</td>\n",
       "      <td>This is a confection that has been around a fe...</td>\n",
       "    </tr>\n",
       "    <tr>\n",
       "      <th>3</th>\n",
       "      <td>4</td>\n",
       "      <td>B000UA0QIQ</td>\n",
       "      <td>A395BORC6FGVXV</td>\n",
       "      <td>Karl</td>\n",
       "      <td>3</td>\n",
       "      <td>3</td>\n",
       "      <td>2</td>\n",
       "      <td>1307923200</td>\n",
       "      <td>Cough Medicine</td>\n",
       "      <td>If you are looking for the secret ingredient i...</td>\n",
       "    </tr>\n",
       "    <tr>\n",
       "      <th>4</th>\n",
       "      <td>5</td>\n",
       "      <td>B006K2ZZ7K</td>\n",
       "      <td>A1UQRSCLF8GW1T</td>\n",
       "      <td>Michael D. Bigham \"M. Wassir\"</td>\n",
       "      <td>0</td>\n",
       "      <td>0</td>\n",
       "      <td>5</td>\n",
       "      <td>1350777600</td>\n",
       "      <td>Great taffy</td>\n",
       "      <td>Great taffy at a great price.  There was a wid...</td>\n",
       "    </tr>\n",
       "  </tbody>\n",
       "</table>\n",
       "</div>"
      ],
      "text/plain": [
       "   Id   ProductId          UserId                      ProfileName  \\\n",
       "0   1  B001E4KFG0  A3SGXH7AUHU8GW                       delmartian   \n",
       "1   2  B00813GRG4  A1D87F6ZCVE5NK                           dll pa   \n",
       "2   3  B000LQOCH0   ABXLMWJIXXAIN  Natalia Corres \"Natalia Corres\"   \n",
       "3   4  B000UA0QIQ  A395BORC6FGVXV                             Karl   \n",
       "4   5  B006K2ZZ7K  A1UQRSCLF8GW1T    Michael D. Bigham \"M. Wassir\"   \n",
       "\n",
       "   HelpfulnessNumerator  HelpfulnessDenominator  Score        Time  \\\n",
       "0                     1                       1      5  1303862400   \n",
       "1                     0                       0      1  1346976000   \n",
       "2                     1                       1      4  1219017600   \n",
       "3                     3                       3      2  1307923200   \n",
       "4                     0                       0      5  1350777600   \n",
       "\n",
       "                 Summary                                               Text  \n",
       "0  Good Quality Dog Food  I have bought several of the Vitality canned d...  \n",
       "1      Not as Advertised  Product arrived labeled as Jumbo Salted Peanut...  \n",
       "2  \"Delight\" says it all  This is a confection that has been around a fe...  \n",
       "3         Cough Medicine  If you are looking for the secret ingredient i...  \n",
       "4            Great taffy  Great taffy at a great price.  There was a wid...  "
      ]
     },
     "execution_count": 193,
     "metadata": {},
     "output_type": "execute_result"
    }
   ],
   "source": [
    "path='C:\\\\Users\\\\lokesh_pc\\\\NLP_Projects\\\\amazon_sentiment_topic_modelling_cleanning_end_to_end\\\\'\n",
    "data=pd.read_csv(path+'Reviews.csv')\n",
    "print(\"*\"*100)\n",
    "print(\"shape of data is: {}\".format(data.shape))\n",
    "print(\"*\"*100)\n",
    "data.head(5)"
   ]
  },
  {
   "cell_type": "code",
   "execution_count": 194,
   "metadata": {},
   "outputs": [
    {
     "data": {
      "text/html": [
       "<div>\n",
       "<style scoped>\n",
       "    .dataframe tbody tr th:only-of-type {\n",
       "        vertical-align: middle;\n",
       "    }\n",
       "\n",
       "    .dataframe tbody tr th {\n",
       "        vertical-align: top;\n",
       "    }\n",
       "\n",
       "    .dataframe thead th {\n",
       "        text-align: right;\n",
       "    }\n",
       "</style>\n",
       "<table border=\"1\" class=\"dataframe\">\n",
       "  <thead>\n",
       "    <tr style=\"text-align: right;\">\n",
       "      <th></th>\n",
       "      <th>count</th>\n",
       "      <th>mean</th>\n",
       "      <th>std</th>\n",
       "      <th>min</th>\n",
       "      <th>25%</th>\n",
       "      <th>50%</th>\n",
       "      <th>75%</th>\n",
       "      <th>max</th>\n",
       "    </tr>\n",
       "  </thead>\n",
       "  <tbody>\n",
       "    <tr>\n",
       "      <th>Id</th>\n",
       "      <td>568454.0</td>\n",
       "      <td>2.842275e+05</td>\n",
       "      <td>164098.7</td>\n",
       "      <td>1.0</td>\n",
       "      <td>1.421142e+05</td>\n",
       "      <td>2.842275e+05</td>\n",
       "      <td>4.263408e+05</td>\n",
       "      <td>5.684540e+05</td>\n",
       "    </tr>\n",
       "    <tr>\n",
       "      <th>HelpfulnessNumerator</th>\n",
       "      <td>568454.0</td>\n",
       "      <td>1.700000e+00</td>\n",
       "      <td>7.6</td>\n",
       "      <td>0.0</td>\n",
       "      <td>0.000000e+00</td>\n",
       "      <td>0.000000e+00</td>\n",
       "      <td>2.000000e+00</td>\n",
       "      <td>8.660000e+02</td>\n",
       "    </tr>\n",
       "    <tr>\n",
       "      <th>HelpfulnessDenominator</th>\n",
       "      <td>568454.0</td>\n",
       "      <td>2.200000e+00</td>\n",
       "      <td>8.3</td>\n",
       "      <td>0.0</td>\n",
       "      <td>0.000000e+00</td>\n",
       "      <td>1.000000e+00</td>\n",
       "      <td>2.000000e+00</td>\n",
       "      <td>9.230000e+02</td>\n",
       "    </tr>\n",
       "    <tr>\n",
       "      <th>Score</th>\n",
       "      <td>568454.0</td>\n",
       "      <td>4.200000e+00</td>\n",
       "      <td>1.3</td>\n",
       "      <td>1.0</td>\n",
       "      <td>4.000000e+00</td>\n",
       "      <td>5.000000e+00</td>\n",
       "      <td>5.000000e+00</td>\n",
       "      <td>5.000000e+00</td>\n",
       "    </tr>\n",
       "    <tr>\n",
       "      <th>Time</th>\n",
       "      <td>568454.0</td>\n",
       "      <td>1.296257e+09</td>\n",
       "      <td>48043312.3</td>\n",
       "      <td>939340800.0</td>\n",
       "      <td>1.271290e+09</td>\n",
       "      <td>1.311120e+09</td>\n",
       "      <td>1.332720e+09</td>\n",
       "      <td>1.351210e+09</td>\n",
       "    </tr>\n",
       "  </tbody>\n",
       "</table>\n",
       "</div>"
      ],
      "text/plain": [
       "                           count          mean         std          min  \\\n",
       "Id                      568454.0  2.842275e+05    164098.7          1.0   \n",
       "HelpfulnessNumerator    568454.0  1.700000e+00         7.6          0.0   \n",
       "HelpfulnessDenominator  568454.0  2.200000e+00         8.3          0.0   \n",
       "Score                   568454.0  4.200000e+00         1.3          1.0   \n",
       "Time                    568454.0  1.296257e+09  48043312.3  939340800.0   \n",
       "\n",
       "                                 25%           50%           75%           max  \n",
       "Id                      1.421142e+05  2.842275e+05  4.263408e+05  5.684540e+05  \n",
       "HelpfulnessNumerator    0.000000e+00  0.000000e+00  2.000000e+00  8.660000e+02  \n",
       "HelpfulnessDenominator  0.000000e+00  1.000000e+00  2.000000e+00  9.230000e+02  \n",
       "Score                   4.000000e+00  5.000000e+00  5.000000e+00  5.000000e+00  \n",
       "Time                    1.271290e+09  1.311120e+09  1.332720e+09  1.351210e+09  "
      ]
     },
     "execution_count": 194,
     "metadata": {},
     "output_type": "execute_result"
    }
   ],
   "source": [
    "data.describe().round(1).T"
   ]
  },
  {
   "cell_type": "code",
   "execution_count": 195,
   "metadata": {},
   "outputs": [
    {
     "data": {
      "text/plain": [
       "Id                         0\n",
       "ProductId                  0\n",
       "UserId                     0\n",
       "ProfileName               16\n",
       "HelpfulnessNumerator       0\n",
       "HelpfulnessDenominator     0\n",
       "Score                      0\n",
       "Time                       0\n",
       "Summary                   27\n",
       "Text                       0\n",
       "dtype: int64"
      ]
     },
     "execution_count": 195,
     "metadata": {},
     "output_type": "execute_result"
    }
   ],
   "source": [
    "data.isnull().sum()"
   ]
  },
  {
   "cell_type": "code",
   "execution_count": 197,
   "metadata": {},
   "outputs": [
    {
     "name": "stdout",
     "output_type": "stream",
     "text": [
      "****************************************************************************************************\n",
      "shape of data after sample (10000, 11)\n",
      "****************************************************************************************************\n",
      "Null value in data \n",
      "index                     0\n",
      "Id                        0\n",
      "ProductId                 0\n",
      "UserId                    0\n",
      "ProfileName               0\n",
      "HelpfulnessNumerator      0\n",
      "HelpfulnessDenominator    0\n",
      "Score                     0\n",
      "Time                      0\n",
      "Summary                   0\n",
      "Text                      0\n",
      "dtype: int64\n"
     ]
    }
   ],
   "source": [
    "###### dropping na value from dataframe and taking only 10000 rows\n",
    "data.dropna(inplace=True)\n",
    "data=data.sample(n=10000)\n",
    "data.reset_index(inplace=True)\n",
    "print(\"*\"*100)\n",
    "print(\"shape of data after sample {}\".format(data.shape))\n",
    "print(\"*\"*100)\n",
    "print(\"Null value in data \\n{}\".format(data.isnull().sum()))"
   ]
  },
  {
   "cell_type": "markdown",
   "metadata": {},
   "source": [
    "# text preprocessing / cleanning methods"
   ]
  },
  {
   "cell_type": "code",
   "execution_count": 7,
   "metadata": {},
   "outputs": [
    {
     "name": "stderr",
     "output_type": "stream",
     "text": [
      "[nltk_data] Downloading package stopwords to\n",
      "[nltk_data]     C:\\Users\\lokesh_pc\\AppData\\Roaming\\nltk_data...\n",
      "[nltk_data]   Package stopwords is already up-to-date!\n",
      "[nltk_data] Downloading package wordnet to\n",
      "[nltk_data]     C:\\Users\\lokesh_pc\\AppData\\Roaming\\nltk_data...\n",
      "[nltk_data]   Package wordnet is already up-to-date!\n",
      "[nltk_data] Downloading package punkt to\n",
      "[nltk_data]     C:\\Users\\lokesh_pc\\AppData\\Roaming\\nltk_data...\n",
      "[nltk_data]   Package punkt is already up-to-date!\n",
      "[nltk_data] Downloading package averaged_perceptron_tagger to\n",
      "[nltk_data]     C:\\Users\\lokesh_pc\\AppData\\Roaming\\nltk_data...\n",
      "[nltk_data]   Package averaged_perceptron_tagger is already up-to-\n",
      "[nltk_data]       date!\n"
     ]
    }
   ],
   "source": [
    "# !pip install -q wordcloud\n",
    "import wordcloud\n",
    "from nltk.corpus import stopwords\n",
    "import nltk\n",
    "import string\n",
    "nltk.download('stopwords')\n",
    "nltk.download('wordnet')\n",
    "nltk.download('punkt')\n",
    "nltk.download('averaged_perceptron_tagger')\n",
    "stop = stopwords.words('english')"
   ]
  },
  {
   "cell_type": "code",
   "execution_count": 217,
   "metadata": {},
   "outputs": [
    {
     "data": {
      "text/plain": [
       "\"This is one of the best dark comedies ever!  If you haven't seen this yet...you need to.  Watch it with friends and family.  You will be hooked!!\""
      ]
     },
     "execution_count": 217,
     "metadata": {},
     "output_type": "execute_result"
    }
   ],
   "source": [
    "sam=data.Text[1]\n",
    "sam"
   ]
  },
  {
   "cell_type": "code",
   "execution_count": 218,
   "metadata": {},
   "outputs": [
    {
     "data": {
      "text/plain": [
       "11"
      ]
     },
     "execution_count": 218,
     "metadata": {},
     "output_type": "execute_result"
    }
   ],
   "source": [
    "len([x for x in sam.split() if x in stop])"
   ]
  },
  {
   "cell_type": "code",
   "execution_count": 219,
   "metadata": {},
   "outputs": [
    {
     "data": {
      "text/html": [
       "<div>\n",
       "<style scoped>\n",
       "    .dataframe tbody tr th:only-of-type {\n",
       "        vertical-align: middle;\n",
       "    }\n",
       "\n",
       "    .dataframe tbody tr th {\n",
       "        vertical-align: top;\n",
       "    }\n",
       "\n",
       "    .dataframe thead th {\n",
       "        text-align: right;\n",
       "    }\n",
       "</style>\n",
       "<table border=\"1\" class=\"dataframe\">\n",
       "  <thead>\n",
       "    <tr style=\"text-align: right;\">\n",
       "      <th></th>\n",
       "      <th>Text</th>\n",
       "      <th>stopword</th>\n",
       "    </tr>\n",
       "  </thead>\n",
       "  <tbody>\n",
       "    <tr>\n",
       "      <th>0</th>\n",
       "      <td>I was lucky enough to grab this on Woot.com al...</td>\n",
       "      <td>37</td>\n",
       "    </tr>\n",
       "    <tr>\n",
       "      <th>1</th>\n",
       "      <td>This is one of the best dark comedies ever!  I...</td>\n",
       "      <td>11</td>\n",
       "    </tr>\n",
       "    <tr>\n",
       "      <th>2</th>\n",
       "      <td>I loved Amy's Lentil vegetable LOW SALT&lt;a href...</td>\n",
       "      <td>133</td>\n",
       "    </tr>\n",
       "    <tr>\n",
       "      <th>3</th>\n",
       "      <td>I have been ordering YamaMotoYama Green Tea fo...</td>\n",
       "      <td>8</td>\n",
       "    </tr>\n",
       "    <tr>\n",
       "      <th>4</th>\n",
       "      <td>If you have not ordered a Ghirardelli product ...</td>\n",
       "      <td>18</td>\n",
       "    </tr>\n",
       "  </tbody>\n",
       "</table>\n",
       "</div>"
      ],
      "text/plain": [
       "                                                Text  stopword\n",
       "0  I was lucky enough to grab this on Woot.com al...        37\n",
       "1  This is one of the best dark comedies ever!  I...        11\n",
       "2  I loved Amy's Lentil vegetable LOW SALT<a href...       133\n",
       "3  I have been ordering YamaMotoYama Green Tea fo...         8\n",
       "4  If you have not ordered a Ghirardelli product ...        18"
      ]
     },
     "execution_count": 219,
     "metadata": {},
     "output_type": "execute_result"
    }
   ],
   "source": [
    "## checking how many stop waord present in each text\n",
    "data[\"stopword\"]=data[\"Text\"].apply(lambda x: len([x for x in x.split() if x in stop]))\n",
    "data[[\"Text\",\"stopword\"]].head()"
   ]
  },
  {
   "cell_type": "code",
   "execution_count": 220,
   "metadata": {},
   "outputs": [
    {
     "data": {
      "text/plain": [
       "\"This is one of the best dark comedies ever!  If you haven't seen this yet...you need to.  Watch it with friends and family.  You will be hooked!!\""
      ]
     },
     "execution_count": 220,
     "metadata": {},
     "output_type": "execute_result"
    }
   ],
   "source": [
    "sam"
   ]
  },
  {
   "cell_type": "code",
   "execution_count": 221,
   "metadata": {},
   "outputs": [
    {
     "data": {
      "text/html": [
       "<div>\n",
       "<style scoped>\n",
       "    .dataframe tbody tr th:only-of-type {\n",
       "        vertical-align: middle;\n",
       "    }\n",
       "\n",
       "    .dataframe tbody tr th {\n",
       "        vertical-align: top;\n",
       "    }\n",
       "\n",
       "    .dataframe thead th {\n",
       "        text-align: right;\n",
       "    }\n",
       "</style>\n",
       "<table border=\"1\" class=\"dataframe\">\n",
       "  <thead>\n",
       "    <tr style=\"text-align: right;\">\n",
       "      <th></th>\n",
       "      <th>Text</th>\n",
       "      <th>punctuation</th>\n",
       "    </tr>\n",
       "  </thead>\n",
       "  <tbody>\n",
       "    <tr>\n",
       "      <th>0</th>\n",
       "      <td>I was lucky enough to grab this on Woot.com al...</td>\n",
       "      <td>30</td>\n",
       "    </tr>\n",
       "    <tr>\n",
       "      <th>1</th>\n",
       "      <td>This is one of the best dark comedies ever!  I...</td>\n",
       "      <td>9</td>\n",
       "    </tr>\n",
       "    <tr>\n",
       "      <th>2</th>\n",
       "      <td>I loved Amy's Lentil vegetable LOW SALT&lt;a href...</td>\n",
       "      <td>116</td>\n",
       "    </tr>\n",
       "    <tr>\n",
       "      <th>3</th>\n",
       "      <td>I have been ordering YamaMotoYama Green Tea fo...</td>\n",
       "      <td>4</td>\n",
       "    </tr>\n",
       "    <tr>\n",
       "      <th>4</th>\n",
       "      <td>If you have not ordered a Ghirardelli product ...</td>\n",
       "      <td>11</td>\n",
       "    </tr>\n",
       "  </tbody>\n",
       "</table>\n",
       "</div>"
      ],
      "text/plain": [
       "                                                Text  punctuation\n",
       "0  I was lucky enough to grab this on Woot.com al...           30\n",
       "1  This is one of the best dark comedies ever!  I...            9\n",
       "2  I loved Amy's Lentil vegetable LOW SALT<a href...          116\n",
       "3  I have been ordering YamaMotoYama Green Tea fo...            4\n",
       "4  If you have not ordered a Ghirardelli product ...           11"
      ]
     },
     "execution_count": 221,
     "metadata": {},
     "output_type": "execute_result"
    }
   ],
   "source": [
    "### checking the no of punchuation in text\n",
    "def count_punctuation(text):\n",
    "    count=sum([1 for i in text if i in string.punctuation])\n",
    "    return count\n",
    "\n",
    "data[\"punctuation\"]=data[\"Text\"].apply(lambda x: count_punctuation(x))\n",
    "data[[\"Text\",\"punctuation\"]].head(5)"
   ]
  },
  {
   "cell_type": "code",
   "execution_count": 222,
   "metadata": {},
   "outputs": [],
   "source": [
    "### checking no of hashtag # in text"
   ]
  },
  {
   "cell_type": "code",
   "execution_count": 223,
   "metadata": {},
   "outputs": [
    {
     "data": {
      "text/html": [
       "<div>\n",
       "<style scoped>\n",
       "    .dataframe tbody tr th:only-of-type {\n",
       "        vertical-align: middle;\n",
       "    }\n",
       "\n",
       "    .dataframe tbody tr th {\n",
       "        vertical-align: top;\n",
       "    }\n",
       "\n",
       "    .dataframe thead th {\n",
       "        text-align: right;\n",
       "    }\n",
       "</style>\n",
       "<table border=\"1\" class=\"dataframe\">\n",
       "  <thead>\n",
       "    <tr style=\"text-align: right;\">\n",
       "      <th></th>\n",
       "      <th>Text</th>\n",
       "      <th>hashtag</th>\n",
       "    </tr>\n",
       "  </thead>\n",
       "  <tbody>\n",
       "    <tr>\n",
       "      <th>0</th>\n",
       "      <td>I was lucky enough to grab this on Woot.com al...</td>\n",
       "      <td>0</td>\n",
       "    </tr>\n",
       "    <tr>\n",
       "      <th>1</th>\n",
       "      <td>This is one of the best dark comedies ever!  I...</td>\n",
       "      <td>0</td>\n",
       "    </tr>\n",
       "    <tr>\n",
       "      <th>2</th>\n",
       "      <td>I loved Amy's Lentil vegetable LOW SALT&lt;a href...</td>\n",
       "      <td>0</td>\n",
       "    </tr>\n",
       "    <tr>\n",
       "      <th>3</th>\n",
       "      <td>I have been ordering YamaMotoYama Green Tea fo...</td>\n",
       "      <td>0</td>\n",
       "    </tr>\n",
       "    <tr>\n",
       "      <th>4</th>\n",
       "      <td>If you have not ordered a Ghirardelli product ...</td>\n",
       "      <td>0</td>\n",
       "    </tr>\n",
       "  </tbody>\n",
       "</table>\n",
       "</div>"
      ],
      "text/plain": [
       "                                                Text  hashtag\n",
       "0  I was lucky enough to grab this on Woot.com al...        0\n",
       "1  This is one of the best dark comedies ever!  I...        0\n",
       "2  I loved Amy's Lentil vegetable LOW SALT<a href...        0\n",
       "3  I have been ordering YamaMotoYama Green Tea fo...        0\n",
       "4  If you have not ordered a Ghirardelli product ...        0"
      ]
     },
     "execution_count": 223,
     "metadata": {},
     "output_type": "execute_result"
    }
   ],
   "source": [
    "data[\"hashtag\"]=data[\"Text\"].apply(lambda x: len([i for i in x.split() if x.startswith(\"#\")]))\n",
    "data[[\"Text\",\"hashtag\"]].head(5)"
   ]
  },
  {
   "cell_type": "code",
   "execution_count": 224,
   "metadata": {},
   "outputs": [
    {
     "data": {
      "text/plain": [
       "0"
      ]
     },
     "execution_count": 224,
     "metadata": {},
     "output_type": "execute_result"
    }
   ],
   "source": [
    "data.hashtag.loc[data.hashtag!=0].count()"
   ]
  },
  {
   "cell_type": "code",
   "execution_count": 225,
   "metadata": {},
   "outputs": [
    {
     "data": {
      "text/html": [
       "<div>\n",
       "<style scoped>\n",
       "    .dataframe tbody tr th:only-of-type {\n",
       "        vertical-align: middle;\n",
       "    }\n",
       "\n",
       "    .dataframe tbody tr th {\n",
       "        vertical-align: top;\n",
       "    }\n",
       "\n",
       "    .dataframe thead th {\n",
       "        text-align: right;\n",
       "    }\n",
       "</style>\n",
       "<table border=\"1\" class=\"dataframe\">\n",
       "  <thead>\n",
       "    <tr style=\"text-align: right;\">\n",
       "      <th></th>\n",
       "      <th>Text</th>\n",
       "      <th>numerics</th>\n",
       "    </tr>\n",
       "  </thead>\n",
       "  <tbody>\n",
       "    <tr>\n",
       "      <th>0</th>\n",
       "      <td>I was lucky enough to grab this on Woot.com al...</td>\n",
       "      <td>1</td>\n",
       "    </tr>\n",
       "    <tr>\n",
       "      <th>1</th>\n",
       "      <td>This is one of the best dark comedies ever!  I...</td>\n",
       "      <td>0</td>\n",
       "    </tr>\n",
       "    <tr>\n",
       "      <th>2</th>\n",
       "      <td>I loved Amy's Lentil vegetable LOW SALT&lt;a href...</td>\n",
       "      <td>1</td>\n",
       "    </tr>\n",
       "    <tr>\n",
       "      <th>3</th>\n",
       "      <td>I have been ordering YamaMotoYama Green Tea fo...</td>\n",
       "      <td>0</td>\n",
       "    </tr>\n",
       "    <tr>\n",
       "      <th>4</th>\n",
       "      <td>If you have not ordered a Ghirardelli product ...</td>\n",
       "      <td>1</td>\n",
       "    </tr>\n",
       "  </tbody>\n",
       "</table>\n",
       "</div>"
      ],
      "text/plain": [
       "                                                Text  numerics\n",
       "0  I was lucky enough to grab this on Woot.com al...         1\n",
       "1  This is one of the best dark comedies ever!  I...         0\n",
       "2  I loved Amy's Lentil vegetable LOW SALT<a href...         1\n",
       "3  I have been ordering YamaMotoYama Green Tea fo...         0\n",
       "4  If you have not ordered a Ghirardelli product ...         1"
      ]
     },
     "execution_count": 225,
     "metadata": {},
     "output_type": "execute_result"
    }
   ],
   "source": [
    "# checking numeric count in text\n",
    "data[\"numerics\"]=data[\"Text\"].apply(lambda x: len([x for x in x.split() if x.isdigit()]))\n",
    "data[[\"Text\",\"numerics\"]].head(5)"
   ]
  },
  {
   "cell_type": "code",
   "execution_count": 226,
   "metadata": {},
   "outputs": [
    {
     "data": {
      "text/html": [
       "<div>\n",
       "<style scoped>\n",
       "    .dataframe tbody tr th:only-of-type {\n",
       "        vertical-align: middle;\n",
       "    }\n",
       "\n",
       "    .dataframe tbody tr th {\n",
       "        vertical-align: top;\n",
       "    }\n",
       "\n",
       "    .dataframe thead th {\n",
       "        text-align: right;\n",
       "    }\n",
       "</style>\n",
       "<table border=\"1\" class=\"dataframe\">\n",
       "  <thead>\n",
       "    <tr style=\"text-align: right;\">\n",
       "      <th></th>\n",
       "      <th>Text</th>\n",
       "      <th>no_upperword</th>\n",
       "    </tr>\n",
       "  </thead>\n",
       "  <tbody>\n",
       "    <tr>\n",
       "      <th>0</th>\n",
       "      <td>I was lucky enough to grab this on Woot.com al...</td>\n",
       "      <td>2</td>\n",
       "    </tr>\n",
       "    <tr>\n",
       "      <th>1</th>\n",
       "      <td>This is one of the best dark comedies ever!  I...</td>\n",
       "      <td>0</td>\n",
       "    </tr>\n",
       "    <tr>\n",
       "      <th>2</th>\n",
       "      <td>I loved Amy's Lentil vegetable LOW SALT&lt;a href...</td>\n",
       "      <td>17</td>\n",
       "    </tr>\n",
       "    <tr>\n",
       "      <th>3</th>\n",
       "      <td>I have been ordering YamaMotoYama Green Tea fo...</td>\n",
       "      <td>2</td>\n",
       "    </tr>\n",
       "    <tr>\n",
       "      <th>4</th>\n",
       "      <td>If you have not ordered a Ghirardelli product ...</td>\n",
       "      <td>0</td>\n",
       "    </tr>\n",
       "  </tbody>\n",
       "</table>\n",
       "</div>"
      ],
      "text/plain": [
       "                                                Text  no_upperword\n",
       "0  I was lucky enough to grab this on Woot.com al...             2\n",
       "1  This is one of the best dark comedies ever!  I...             0\n",
       "2  I loved Amy's Lentil vegetable LOW SALT<a href...            17\n",
       "3  I have been ordering YamaMotoYama Green Tea fo...             2\n",
       "4  If you have not ordered a Ghirardelli product ...             0"
      ]
     },
     "execution_count": 226,
     "metadata": {},
     "output_type": "execute_result"
    }
   ],
   "source": [
    "# checking Upper case word count \n",
    "data[\"no_upperword\"]=data[\"Text\"].apply(lambda x: len([x for x in x.split() if x.isupper()]))\n",
    "data[[\"Text\",\"no_upperword\"]].head(5)"
   ]
  },
  {
   "cell_type": "code",
   "execution_count": 227,
   "metadata": {},
   "outputs": [
    {
     "data": {
      "text/plain": [
       "\"This is one of the best dark comedies ever!  If you haven't seen this yet...you need to.  Watch it with friends and family.  You will be hooked!!\""
      ]
     },
     "execution_count": 227,
     "metadata": {},
     "output_type": "execute_result"
    }
   ],
   "source": [
    "sam"
   ]
  },
  {
   "cell_type": "code",
   "execution_count": 228,
   "metadata": {
    "scrolled": true
   },
   "outputs": [
    {
     "name": "stdout",
     "output_type": "stream",
     "text": [
      "<generator object <genexpr> at 0x000000B97C141C48>\n"
     ]
    }
   ],
   "source": [
    "b=(x.lower() for x in sam.split())\n",
    "print(b)"
   ]
  },
  {
   "cell_type": "code",
   "execution_count": 229,
   "metadata": {},
   "outputs": [
    {
     "data": {
      "text/plain": [
       "\"this is one of the best dark comedies ever! if you haven't seen this yet...you need to. watch it with friends and family. you will be hooked!!\""
      ]
     },
     "execution_count": 229,
     "metadata": {},
     "output_type": "execute_result"
    }
   ],
   "source": [
    "\" \".join(x.lower() for x in sam.split())"
   ]
  },
  {
   "cell_type": "code",
   "execution_count": 230,
   "metadata": {},
   "outputs": [
    {
     "data": {
      "text/plain": [
       "'I was lucky enough to grab this on Woot.com along with 3 other flavored oils (4 bottles for $44) and they are fantastic.  The garlic infusion is fragrant, leaving a delicate garlic flavor to meats and vegetables.  I have used it to marinate chicken, filet and salmon with equally good results.  Also, cooking a batch of fresh summer veggies in a little of this oil infuses a wonderful flavor into them.<br /><br />The lemon infused oil is wonderful for fish or chicken.  It has a robust flavor and a little goes a long way.<br /><br />Definitely a re-order for me!! :)'"
      ]
     },
     "execution_count": 230,
     "metadata": {},
     "output_type": "execute_result"
    }
   ],
   "source": [
    "data[\"Text\"][0]"
   ]
  },
  {
   "cell_type": "code",
   "execution_count": 231,
   "metadata": {},
   "outputs": [],
   "source": [
    "# def preprocessing_text(text):\n",
    "#     text=text.lower()\n",
    "#     text="
   ]
  },
  {
   "cell_type": "markdown",
   "metadata": {},
   "source": [
    "# Text Cleaning Techniques"
   ]
  },
  {
   "cell_type": "code",
   "execution_count": 232,
   "metadata": {},
   "outputs": [
    {
     "data": {
      "text/plain": [
       "0    i was lucky enough to grab this on woot.com al...\n",
       "1    this is one of the best dark comedies ever! if...\n",
       "2    i loved amy's lentil vegetable low salt<a href...\n",
       "3    i have been ordering yamamotoyama green tea fo...\n",
       "4    if you have not ordered a ghirardelli product ...\n",
       "Name: Text, dtype: object"
      ]
     },
     "execution_count": 232,
     "metadata": {},
     "output_type": "execute_result"
    }
   ],
   "source": [
    "### 1 . converting text to lower case \n",
    "data[\"Text\"]=data[\"Text\"].apply(lambda x: \" \".join(x.lower() for x in x.split()))\n",
    "data[\"Text\"].head()"
   ]
  },
  {
   "cell_type": "code",
   "execution_count": 233,
   "metadata": {},
   "outputs": [
    {
     "data": {
      "text/plain": [
       "0    i was lucky enough to grab this on wootcom alo...\n",
       "1    this is one of the best dark comedies ever if ...\n",
       "2    i loved amys lentil vegetable low salta hrefht...\n",
       "3    i have been ordering yamamotoyama green tea fo...\n",
       "4    if you have not ordered a ghirardelli product ...\n",
       "Name: Text, dtype: object"
      ]
     },
     "execution_count": 233,
     "metadata": {},
     "output_type": "execute_result"
    }
   ],
   "source": [
    "#### 2 . remove punchuation from text \n",
    "## ex.  [!”#$%&’()*+,-./:;=>?@[\\]^_`{|}~]\n",
    "data[\"Text\"]=data[\"Text\"].str.replace('[^\\w\\s]','')\n",
    "data[\"Text\"].head()"
   ]
  },
  {
   "cell_type": "code",
   "execution_count": 234,
   "metadata": {},
   "outputs": [
    {
     "data": {
      "text/plain": [
       "0    lucky enough grab wootcom along 3 flavored oil...\n",
       "1    one best dark comedies ever havent seen yetyou...\n",
       "2    loved amys lentil vegetable low salta hrefhttp...\n",
       "3    ordering yamamotoyama green tea years reliable...\n",
       "4    ordered ghirardelli product must knowbr receiv...\n",
       "Name: Text, dtype: object"
      ]
     },
     "execution_count": 234,
     "metadata": {},
     "output_type": "execute_result"
    }
   ],
   "source": [
    "### 3. remove stopword \n",
    "from nltk.corpus import stopwords\n",
    "stop=stopwords.words(\"english\")\n",
    "data[\"Text\"]=data[\"Text\"].apply(lambda x: \" \".join(x for x in x.split() if x not in stop))\n",
    "data[\"Text\"].head()"
   ]
  },
  {
   "cell_type": "code",
   "execution_count": 235,
   "metadata": {
    "scrolled": true
   },
   "outputs": [
    {
     "name": "stdout",
     "output_type": "stream",
     "text": [
      "6348    stretch imagination anyone thinks tastes like ...\n",
      "Name: Text, dtype: object\n"
     ]
    },
    {
     "data": {
      "text/plain": [
       "im             2\n",
       "sure           2\n",
       "br             2\n",
       "tastes         2\n",
       "cant           2\n",
       "like           2\n",
       "return         1\n",
       "isbr           1\n",
       "drink          1\n",
       "imagination    1\n",
       "guess          1\n",
       "itbr           1\n",
       "way            1\n",
       "thinks         1\n",
       "vanilla        1\n",
       "chemicals      1\n",
       "trash          1\n",
       "latte          1\n",
       "provide        1\n",
       "defies         1\n",
       "ill            1\n",
       "caffeine       1\n",
       "duh            1\n",
       "overall        1\n",
       "advisable      1\n",
       "quite          1\n",
       "maybe          1\n",
       "anyone         1\n",
       "get            1\n",
       "gritty         1\n",
       "energy         1\n",
       "contains       1\n",
       "unpalatable    1\n",
       "thanks         1\n",
       "logic          1\n",
       "stretch        1\n",
       "dtype: int64"
      ]
     },
     "execution_count": 235,
     "metadata": {},
     "output_type": "execute_result"
    }
   ],
   "source": [
    "sam=data.sample(1)\n",
    "print(sam[\"Text\"])\n",
    "pd.Series(\" \".join(sam[\"Text\"]).split()).value_counts()"
   ]
  },
  {
   "cell_type": "code",
   "execution_count": 236,
   "metadata": {
    "scrolled": true
   },
   "outputs": [
    {
     "data": {
      "text/plain": [
       "br         4616\n",
       "like       4483\n",
       "good       3393\n",
       "one        3077\n",
       "taste      2956\n",
       "great      2926\n",
       "coffee     2670\n",
       "product    2623\n",
       "flavor     2498\n",
       "tea        2446\n",
       "love       2269\n",
       "food       2237\n",
       "would      2203\n",
       "get        1858\n",
       "really     1742\n",
       "much       1611\n",
       "dont       1599\n",
       "also       1518\n",
       "use        1458\n",
       "little     1454\n",
       "buy        1408\n",
       "find       1389\n",
       "amazon     1383\n",
       "best       1369\n",
       "time       1363\n",
       "price      1331\n",
       "even       1315\n",
       "tried      1302\n",
       "better     1288\n",
       "im         1281\n",
       "dtype: int64"
      ]
     },
     "execution_count": 236,
     "metadata": {},
     "output_type": "execute_result"
    }
   ],
   "source": [
    "### checking most frequent word\n",
    "freq=pd.Series(' '.join(data[\"Text\"]).split()).value_counts()[:30]\n",
    "freq"
   ]
  },
  {
   "cell_type": "code",
   "execution_count": 237,
   "metadata": {},
   "outputs": [
    {
     "data": {
      "text/plain": [
       "0    lucky enough grab wootcom along 3 flavored oil...\n",
       "1    one best dark comedies ever havent seen yetyou...\n",
       "2    loved amys lentil vegetable low salta hrefhttp...\n",
       "3    ordering yamamotoyama green tea years reliable...\n",
       "4    ordered ghirardelli product must knowbr receiv...\n",
       "Name: Text, dtype: object"
      ]
     },
     "execution_count": 237,
     "metadata": {},
     "output_type": "execute_result"
    }
   ],
   "source": [
    "## remove some stopword from text \n",
    "add_word=[\"br\",\"get\",\"also\",\"ive\"]\n",
    "stop_word=set(stopwords.words(\"english\"))\n",
    "stop_added=stop_word.union(add_word)\n",
    "data[\"Text\"]=data[\"Text\"].apply(lambda x: \" \".join(x for x in x.split() if x not in stop_added))\n",
    "data[\"Text\"].head()"
   ]
  },
  {
   "cell_type": "code",
   "execution_count": 238,
   "metadata": {},
   "outputs": [],
   "source": [
    "### 4. remove url from text"
   ]
  },
  {
   "cell_type": "code",
   "execution_count": 239,
   "metadata": {},
   "outputs": [
    {
     "data": {
      "text/plain": [
       "''"
      ]
     },
     "execution_count": 239,
     "metadata": {},
     "output_type": "execute_result"
    }
   ],
   "source": [
    "sam=\"www.12212facebook.com\"\n",
    "re.sub(r'^https?://\\S+|www\\.\\S+', '', sam)"
   ]
  },
  {
   "cell_type": "code",
   "execution_count": 240,
   "metadata": {},
   "outputs": [
    {
     "data": {
      "text/plain": [
       "0    lucky enough grab wootcom along 3 flavored oil...\n",
       "1    one best dark comedies ever havent seen yetyou...\n",
       "2    loved amys lentil vegetable low salta hrefhttp...\n",
       "3    ordering yamamotoyama green tea years reliable...\n",
       "4    ordered ghirardelli product must knowbr receiv...\n",
       "Name: Text, dtype: object"
      ]
     },
     "execution_count": 240,
     "metadata": {},
     "output_type": "execute_result"
    }
   ],
   "source": [
    "def remove_url(text):\n",
    "    url=re.compile(r'https?://\\S+|www\\.\\S+')\n",
    "    return url.sub(r'',text)\n",
    "\n",
    "data[\"Text\"]=data[\"Text\"].apply(lambda x: remove_url(x))\n",
    "data[\"Text\"].head()\n",
    "                   "
   ]
  },
  {
   "cell_type": "code",
   "execution_count": 241,
   "metadata": {},
   "outputs": [
    {
     "data": {
      "text/plain": [
       "0    lucky enough grab wootcom along 3 flavored oil...\n",
       "1    one best dark comedies ever havent seen yetyou...\n",
       "2    loved amys lentil vegetable low salta hrefhttp...\n",
       "3    ordering yamamotoyama green tea years reliable...\n",
       "4    ordered ghirardelli product must knowbr receiv...\n",
       "Name: Text, dtype: object"
      ]
     },
     "execution_count": 241,
     "metadata": {},
     "output_type": "execute_result"
    }
   ],
   "source": [
    "#### remove HTML tags from text\n",
    "def remove_html(text):\n",
    "    html=re.compile(r'<.*?>')\n",
    "    return html.sub(r'',text)\n",
    "data[\"Text\"]=data[\"Text\"].apply(lambda x: remove_html(x))\n",
    "data[\"Text\"].head()"
   ]
  },
  {
   "cell_type": "code",
   "execution_count": 242,
   "metadata": {},
   "outputs": [
    {
     "data": {
      "text/plain": [
       "'\\nTitle\\nA long text........ \\n a link \\n'"
      ]
     },
     "execution_count": 242,
     "metadata": {},
     "output_type": "execute_result"
    }
   ],
   "source": [
    "text = \"\"\"<div>\n",
    "<h1>Title</h1>\n",
    "<p>A long text........ </p>\n",
    "<a href=\"\"> a link </a>\n",
    "</div>\"\"\"\n",
    "\n",
    "re.sub(r'<.*?>','',text)"
   ]
  },
  {
   "cell_type": "code",
   "execution_count": 243,
   "metadata": {},
   "outputs": [
    {
     "data": {
      "text/plain": [
       "'sdasdasdasd  http://t.co/7AzE4IoGMe Risk Assessmen '"
      ]
     },
     "execution_count": 243,
     "metadata": {},
     "output_type": "execute_result"
    }
   ],
   "source": [
    "from bs4 import BeautifulSoup\n",
    "\n",
    "def strip_html_tags(text):\n",
    "    soup = BeautifulSoup(text, \"html.parser\")\n",
    "    stripped_text = soup.get_text()\n",
    "    return stripped_text\n",
    "\n",
    "strip_html_tags('sdasdasdasd <h1> http://t.co/7AzE4IoGMe Risk Assessmen ')\n",
    "\n",
    "# I will come back to this later"
   ]
  },
  {
   "cell_type": "code",
   "execution_count": 244,
   "metadata": {},
   "outputs": [
    {
     "data": {
      "text/plain": [
       "'Omg another Earthquake '"
      ]
     },
     "execution_count": 244,
     "metadata": {},
     "output_type": "execute_result"
    }
   ],
   "source": [
    "#### remove emoji from text\n",
    "# Reference : https://gist.github.com/slowkow/7a7f61f495e3dbb7e3d767f97bd7304b\n",
    "def remove_emoji(text): \n",
    "    emoji_pattern = re.compile(\"[\"\n",
    "        u\"\\U0001F600-\\U0001F64F\"  # emoticons\n",
    "        u\"\\U0001F300-\\U0001F5FF\"  # symbols & pictographs\n",
    "        u\"\\U0001F680-\\U0001F6FF\"  # transport & map symbols\n",
    "        u\"\\U0001F1E0-\\U0001F1FF\"  # flags\n",
    "        u\"\\U00002702-\\U000027B0\"\n",
    "        u\"\\U000024C2-\\U0001F251\"\n",
    "        \"]+\", flags=re.UNICODE)\n",
    "    return emoji_pattern.sub(r'', text)\n",
    "#Example\n",
    "remove_emoji(\"Omg another Earthquake 😔😔\")"
   ]
  },
  {
   "cell_type": "code",
   "execution_count": 245,
   "metadata": {},
   "outputs": [
    {
     "data": {
      "text/plain": [
       "0    lucky enough grab wootcom along 3 flavored oil...\n",
       "1    one best dark comedies ever havent seen yetyou...\n",
       "2    loved amys lentil vegetable low salta hrefhttp...\n",
       "3    ordering yamamotoyama green tea years reliable...\n",
       "4    ordered ghirardelli product must knowbr receiv...\n",
       "Name: Text, dtype: object"
      ]
     },
     "execution_count": 245,
     "metadata": {},
     "output_type": "execute_result"
    }
   ],
   "source": [
    "data[\"Text\"]=data[\"Text\"].apply(lambda x: remove_emoji(x))\n",
    "data[\"Text\"].head()"
   ]
  },
  {
   "cell_type": "code",
   "execution_count": 246,
   "metadata": {},
   "outputs": [
    {
     "data": {
      "text/plain": [
       "'Hello '"
      ]
     },
     "execution_count": 246,
     "metadata": {},
     "output_type": "execute_result"
    }
   ],
   "source": [
    "#### Remove Emoticons\n",
    "#!pip install emot #package \n",
    "from emot.emo_unicode import UNICODE_EMO, EMOTICONS\n",
    "# Function for removing emoticons\n",
    "def remove_emoticons(text):\n",
    "    emoticon_pattern = re.compile(u'(' + u'|'.join(k for k in   EMOTICONS) + u')')\n",
    "    return emoticon_pattern.sub(r'', text)\n",
    "#Example\n",
    "remove_emoticons(\"Hello :-)\")"
   ]
  },
  {
   "cell_type": "code",
   "execution_count": 247,
   "metadata": {},
   "outputs": [
    {
     "data": {
      "text/plain": [
       "0    lucky enough grab wootcom along 3 flavored oil...\n",
       "1    one best dark comedies ever havent seen yetyou...\n",
       "2    loved amys lentil vegetable low salta hrefhttp...\n",
       "3    ordering yamamotoyama green tea years reliable...\n",
       "4    ordered ghirardelli product must knowbr receiv...\n",
       "Name: Text, dtype: object"
      ]
     },
     "execution_count": 247,
     "metadata": {},
     "output_type": "execute_result"
    }
   ],
   "source": [
    "data[\"Text\"]=data[\"Text\"].apply(lambda x: remove_emoticons(x))\n",
    "data[\"Text\"].head(5)"
   ]
  },
  {
   "cell_type": "code",
   "execution_count": 248,
   "metadata": {},
   "outputs": [
    {
     "name": "stdout",
     "output_type": "stream",
     "text": [
      "GFG is a good company and always value their employed.\n"
     ]
    }
   ],
   "source": [
    "# import TextBlob \n",
    "from textblob import TextBlob \n",
    "  \n",
    "gfg = TextBlob(\"GFG is a good compny and alays valule ttheir empployes.\") \n",
    "  \n",
    "# using TextBlob.correct() method \n",
    "gfg = gfg.correct() \n",
    "  \n",
    "print(gfg) "
   ]
  },
  {
   "cell_type": "code",
   "execution_count": 249,
   "metadata": {},
   "outputs": [
    {
     "data": {
      "text/plain": [
       "0    lucky enough grab wootcom along 3 favored oils...\n",
       "1    one best dark remedies ever haven seen yetyou ...\n",
       "2    loved amy until vegetable low salt hrefhttpwww...\n",
       "3    ordering yamamotoyama green tea years reliable...\n",
       "4    ordered ghirardelli product must know receive ...\n",
       "Name: Text, dtype: object"
      ]
     },
     "execution_count": 249,
     "metadata": {},
     "output_type": "execute_result"
    }
   ],
   "source": [
    "#### spell correction \n",
    "from textblob import TextBlob\n",
    "data['Text'][:5].apply(lambda x: str(TextBlob(x).correct()))"
   ]
  },
  {
   "cell_type": "code",
   "execution_count": 250,
   "metadata": {},
   "outputs": [],
   "source": [
    "# data[\"Text\"]=data[\"Text\"].apply(lambda x: str(TextBlob(x).correct()))\n",
    "# data[\"Text\"].head()"
   ]
  },
  {
   "cell_type": "code",
   "execution_count": 251,
   "metadata": {},
   "outputs": [],
   "source": [
    "data2=data.copy()"
   ]
  },
  {
   "cell_type": "code",
   "execution_count": 257,
   "metadata": {},
   "outputs": [],
   "source": [
    "from nltk.stem import WordNetLemmatizer \n",
    "from nltk.tokenize import word_tokenize \n",
    "lemmatizer = WordNetLemmatizer() \n",
    "# lemmatize string \n",
    "def lemmatize_word(text): \n",
    "    word_tokens = word_tokenize(text) \n",
    "    # provide context i.e. part-of-speech \n",
    "    lemmas = [lemmatizer.lemmatize(word, pos ='v') for word in word_tokens] \n",
    "    return lemmas \n",
    "  \n",
    "\n",
    "data2[\"Text\"]=data2[\"Text\"].apply(lambda x: lemmatize_word(x))\n",
    "data2[\"Text\"]=data2[\"Text\"].apply(lambda x: \" \".join(x))"
   ]
  },
  {
   "cell_type": "code",
   "execution_count": 252,
   "metadata": {},
   "outputs": [],
   "source": [
    "from nltk.stem.porter import PorterStemmer \n",
    "from nltk.tokenize import word_tokenize \n",
    "stemmer = PorterStemmer() \n",
    "  \n",
    "# stem words in the list of tokenised words \n",
    "def stem_words(text): \n",
    "    word_tokens = word_tokenize(text) \n",
    "    stems = [stemmer.stem(word) for word in word_tokens] \n",
    "    return stems \n",
    "  \n",
    "data[\"Text\"]=data[\"Text\"].apply(lambda x: stem_words(x))\n",
    "data[\"Text\"]=data[\"Text\"].apply(lambda x: \" \".join(x))"
   ]
  },
  {
   "cell_type": "code",
   "execution_count": 260,
   "metadata": {},
   "outputs": [],
   "source": [
    "#### count word ,count char,count avg word in each text\n",
    "data2[\"word_count\"]=data2[\"Text\"].apply(lambda x: len(str(x).split(\" \")))\n",
    "data2[\"char_count\"]=data2[\"Text\"].str.len()"
   ]
  },
  {
   "cell_type": "code",
   "execution_count": 261,
   "metadata": {},
   "outputs": [
    {
     "data": {
      "text/html": [
       "<div>\n",
       "<style scoped>\n",
       "    .dataframe tbody tr th:only-of-type {\n",
       "        vertical-align: middle;\n",
       "    }\n",
       "\n",
       "    .dataframe tbody tr th {\n",
       "        vertical-align: top;\n",
       "    }\n",
       "\n",
       "    .dataframe thead th {\n",
       "        text-align: right;\n",
       "    }\n",
       "</style>\n",
       "<table border=\"1\" class=\"dataframe\">\n",
       "  <thead>\n",
       "    <tr style=\"text-align: right;\">\n",
       "      <th></th>\n",
       "      <th>Text</th>\n",
       "      <th>word_count</th>\n",
       "      <th>char_count</th>\n",
       "      <th>avg_word</th>\n",
       "    </tr>\n",
       "  </thead>\n",
       "  <tbody>\n",
       "    <tr>\n",
       "      <th>0</th>\n",
       "      <td>lucky enough grab wootcom along 3 flavor oil 4...</td>\n",
       "      <td>54</td>\n",
       "      <td>359</td>\n",
       "      <td>5.7</td>\n",
       "    </tr>\n",
       "    <tr>\n",
       "      <th>1</th>\n",
       "      <td>one best dark comedies ever havent see yetyou ...</td>\n",
       "      <td>13</td>\n",
       "      <td>76</td>\n",
       "      <td>4.9</td>\n",
       "    </tr>\n",
       "    <tr>\n",
       "      <th>2</th>\n",
       "      <td>love amys lentil vegetable low salta hrefhttpw...</td>\n",
       "      <td>185</td>\n",
       "      <td>1254</td>\n",
       "      <td>5.8</td>\n",
       "    </tr>\n",
       "    <tr>\n",
       "      <th>3</th>\n",
       "      <td>order yamamotoyama green tea years reliable so...</td>\n",
       "      <td>13</td>\n",
       "      <td>84</td>\n",
       "      <td>5.5</td>\n",
       "    </tr>\n",
       "    <tr>\n",
       "      <th>4</th>\n",
       "      <td>order ghirardelli product must knowbr receive ...</td>\n",
       "      <td>23</td>\n",
       "      <td>157</td>\n",
       "      <td>5.9</td>\n",
       "    </tr>\n",
       "  </tbody>\n",
       "</table>\n",
       "</div>"
      ],
      "text/plain": [
       "                                                Text  word_count  char_count  \\\n",
       "0  lucky enough grab wootcom along 3 flavor oil 4...          54         359   \n",
       "1  one best dark comedies ever havent see yetyou ...          13          76   \n",
       "2  love amys lentil vegetable low salta hrefhttpw...         185        1254   \n",
       "3  order yamamotoyama green tea years reliable so...          13          84   \n",
       "4  order ghirardelli product must knowbr receive ...          23         157   \n",
       "\n",
       "   avg_word  \n",
       "0       5.7  \n",
       "1       4.9  \n",
       "2       5.8  \n",
       "3       5.5  \n",
       "4       5.9  "
      ]
     },
     "execution_count": 261,
     "metadata": {},
     "output_type": "execute_result"
    }
   ],
   "source": [
    "def avg_word(sentence):\n",
    "    words = sentence.split()\n",
    "    return (sum(len(word) for word in words)/(len(words)+0.000001))\n",
    "data2['avg_word'] = data2['Text'].apply(lambda x: avg_word(x)).round(1)\n",
    "data2[['Text','word_count','char_count','avg_word']].head()"
   ]
  },
  {
   "cell_type": "code",
   "execution_count": 264,
   "metadata": {},
   "outputs": [],
   "source": [
    "df=data.copy()"
   ]
  },
  {
   "cell_type": "code",
   "execution_count": 265,
   "metadata": {},
   "outputs": [
    {
     "data": {
      "text/plain": [
       "0       lucki enough grab wootcom along  flavor oil  b...\n",
       "1       one best dark comedi ever havent seen yetyou n...\n",
       "2       love ami lentil veget low salta  organ lentil ...\n",
       "3       order yamamotoyama green tea year reliabl sour...\n",
       "4       order ghirardelli product must knowbr receiv g...\n",
       "                              ...                        \n",
       "9995    base first two review order  bottl chocol extr...\n",
       "9996    walden farm marshmallow dip good find perhap c...\n",
       "9997    spice fine bottl tall narrow pictur instead sh...\n",
       "9998    note review chili lime flavor popchip amazon s...\n",
       "9999    bought bird food infest moth egg time found ho...\n",
       "Name: Text, Length: 10000, dtype: object"
      ]
     },
     "execution_count": 265,
     "metadata": {},
     "output_type": "execute_result"
    }
   ],
   "source": [
    "# Apply a first round of text cleaning techniques\n",
    "import re\n",
    "import string\n",
    "\n",
    "def clean_text_round1(text):\n",
    "    '''Make text lowercase, remove text in square brackets, remove punctuation and remove words containing numbers.'''\n",
    "    text = text.lower()\n",
    "    text = re.sub('\\[.*?\\]', '', text)\n",
    "    text = re.sub('[%s]' % re.escape(string.punctuation), '', text)\n",
    "    text = re.sub('\\w*\\d\\w*', '', text)\n",
    "    return text\n",
    "\n",
    "round1 = lambda x: clean_text_round1(x)\n",
    "df['Text'] = df.Text.apply(round1)\n",
    "df.Text"
   ]
  },
  {
   "cell_type": "code",
   "execution_count": 266,
   "metadata": {},
   "outputs": [],
   "source": [
    "# Apply a second round of cleaning\n",
    "def clean_text_round2(text):\n",
    "    '''Get rid of some additional punctuation and non-sensical text that was missed the first time around.'''\n",
    "    text = re.sub('[‘’“”…]', '', text)\n",
    "    text = re.sub('\\n', '', text)\n",
    "    return text\n",
    "\n",
    "round2 = lambda x: clean_text_round2(x)"
   ]
  },
  {
   "cell_type": "code",
   "execution_count": 267,
   "metadata": {},
   "outputs": [
    {
     "data": {
      "text/plain": [
       "0       lucki enough grab wootcom along  flavor oil  b...\n",
       "1       one best dark comedi ever havent seen yetyou n...\n",
       "2       love ami lentil veget low salta  organ lentil ...\n",
       "3       order yamamotoyama green tea year reliabl sour...\n",
       "4       order ghirardelli product must knowbr receiv g...\n",
       "                              ...                        \n",
       "9995    base first two review order  bottl chocol extr...\n",
       "9996    walden farm marshmallow dip good find perhap c...\n",
       "9997    spice fine bottl tall narrow pictur instead sh...\n",
       "9998    note review chili lime flavor popchip amazon s...\n",
       "9999    bought bird food infest moth egg time found ho...\n",
       "Name: Text, Length: 10000, dtype: object"
      ]
     },
     "execution_count": 267,
     "metadata": {},
     "output_type": "execute_result"
    }
   ],
   "source": [
    "df['Text'] = df.Text.apply(round2)\n",
    "df.Text"
   ]
  },
  {
   "cell_type": "code",
   "execution_count": null,
   "metadata": {},
   "outputs": [],
   "source": []
  },
  {
   "cell_type": "code",
   "execution_count": null,
   "metadata": {},
   "outputs": [],
   "source": []
  },
  {
   "cell_type": "code",
   "execution_count": 11,
   "metadata": {},
   "outputs": [],
   "source": [
    "data_copy=data.copy()"
   ]
  },
  {
   "cell_type": "code",
   "execution_count": 14,
   "metadata": {},
   "outputs": [],
   "source": [
    "data=data[[\"Score\",\"Text\"]].copy()"
   ]
  },
  {
   "cell_type": "code",
   "execution_count": 15,
   "metadata": {},
   "outputs": [],
   "source": [
    "data[\"Text_old\"]=data[\"Text\"].copy()\n"
   ]
  },
  {
   "cell_type": "code",
   "execution_count": 16,
   "metadata": {},
   "outputs": [
    {
     "data": {
      "text/html": [
       "<div>\n",
       "<style scoped>\n",
       "    .dataframe tbody tr th:only-of-type {\n",
       "        vertical-align: middle;\n",
       "    }\n",
       "\n",
       "    .dataframe tbody tr th {\n",
       "        vertical-align: top;\n",
       "    }\n",
       "\n",
       "    .dataframe thead th {\n",
       "        text-align: right;\n",
       "    }\n",
       "</style>\n",
       "<table border=\"1\" class=\"dataframe\">\n",
       "  <thead>\n",
       "    <tr style=\"text-align: right;\">\n",
       "      <th></th>\n",
       "      <th>Score</th>\n",
       "      <th>Text</th>\n",
       "      <th>Text_old</th>\n",
       "    </tr>\n",
       "  </thead>\n",
       "  <tbody>\n",
       "    <tr>\n",
       "      <th>0</th>\n",
       "      <td>5</td>\n",
       "      <td>I call this product, \"puppy crack\".  I have a ...</td>\n",
       "      <td>I call this product, \"puppy crack\".  I have a ...</td>\n",
       "    </tr>\n",
       "    <tr>\n",
       "      <th>1</th>\n",
       "      <td>5</td>\n",
       "      <td>For the longest time, I've found it difficult ...</td>\n",
       "      <td>For the longest time, I've found it difficult ...</td>\n",
       "    </tr>\n",
       "    <tr>\n",
       "      <th>2</th>\n",
       "      <td>4</td>\n",
       "      <td>This is a good choice for anyone who likes sal...</td>\n",
       "      <td>This is a good choice for anyone who likes sal...</td>\n",
       "    </tr>\n",
       "    <tr>\n",
       "      <th>3</th>\n",
       "      <td>4</td>\n",
       "      <td>I got this for my dog about a week ago because...</td>\n",
       "      <td>I got this for my dog about a week ago because...</td>\n",
       "    </tr>\n",
       "    <tr>\n",
       "      <th>4</th>\n",
       "      <td>4</td>\n",
       "      <td>I typically get the brownie crunch flavor, but...</td>\n",
       "      <td>I typically get the brownie crunch flavor, but...</td>\n",
       "    </tr>\n",
       "  </tbody>\n",
       "</table>\n",
       "</div>"
      ],
      "text/plain": [
       "   Score                                               Text  \\\n",
       "0      5  I call this product, \"puppy crack\".  I have a ...   \n",
       "1      5  For the longest time, I've found it difficult ...   \n",
       "2      4  This is a good choice for anyone who likes sal...   \n",
       "3      4  I got this for my dog about a week ago because...   \n",
       "4      4  I typically get the brownie crunch flavor, but...   \n",
       "\n",
       "                                            Text_old  \n",
       "0  I call this product, \"puppy crack\".  I have a ...  \n",
       "1  For the longest time, I've found it difficult ...  \n",
       "2  This is a good choice for anyone who likes sal...  \n",
       "3  I got this for my dog about a week ago because...  \n",
       "4  I typically get the brownie crunch flavor, but...  "
      ]
     },
     "execution_count": 16,
     "metadata": {},
     "output_type": "execute_result"
    }
   ],
   "source": [
    "data.head()"
   ]
  },
  {
   "cell_type": "markdown",
   "metadata": {},
   "source": [
    "# Preprocessing the raw text:\n",
    "\n",
    "## This involves the following:\n",
    "\n",
    "I. Removing URL.\n",
    "II. Removing all irrelevant characters (Numbers and Punctuation).\n",
    "III. Convert all characters into lowercase.\n",
    "IV. Tokenization\n",
    "V. Removing Stopwords\n",
    "VI. Stemming and Lemmatization\n",
    "VII. Remove the words having length <= 2\n",
    "VIII. Convert the list of tokens into back to the string"
   ]
  },
  {
   "cell_type": "code",
   "execution_count": 17,
   "metadata": {},
   "outputs": [
    {
     "data": {
      "text/plain": [
       "'This is a good choice for anyone who likes salmon, even if they have never made the leap to salmon roe. It lacks subtlety; it is a bit on the salty side, and the smokiness is a bit strong, but that can help to ease the impact of these little salmon-bombs for one who is new to the experience.'"
      ]
     },
     "execution_count": 17,
     "metadata": {},
     "output_type": "execute_result"
    }
   ],
   "source": [
    "data[\"Text\"][2]"
   ]
  },
  {
   "cell_type": "code",
   "execution_count": 19,
   "metadata": {},
   "outputs": [],
   "source": [
    "### 1. remove url \n",
    "import re\n",
    "def remove_url(text):\n",
    "    return re.sub(r'https\\S+','',text)\n",
    "data[\"Text\"]=data[\"Text\"].apply(lambda x: remove_url(x))\n",
    "\n",
    "### 2. Removing all irrelevant characters (Numbers and Punctuation)\n",
    "def remove_non_alphanumeric(text):\n",
    "    return re.sub('[^a-zA-Z]',' ',text)\n",
    "data[\"Text\"]=data[\"Text\"].apply(lambda x: remove_non_alphanumeric(x))\n",
    "\n",
    "### 3. Convert all characters into lowercase\n",
    "def char_lower(text):\n",
    "    return str(text).lower()\n",
    "data[\"Text\"]=data[\"Text\"].apply(lambda x: char_lower(x))\n",
    "\n",
    "### 4. Tokenization\n",
    "import nltk\n",
    "from nltk.tokenize import word_tokenize\n",
    "\n",
    "def word_token(text):\n",
    "    return word_tokenize(text)\n",
    "data[\"Text\"]=data[\"Text\"].apply(lambda x: word_token(x))"
   ]
  },
  {
   "cell_type": "code",
   "execution_count": 20,
   "metadata": {},
   "outputs": [
    {
     "data": {
      "text/html": [
       "<div>\n",
       "<style scoped>\n",
       "    .dataframe tbody tr th:only-of-type {\n",
       "        vertical-align: middle;\n",
       "    }\n",
       "\n",
       "    .dataframe tbody tr th {\n",
       "        vertical-align: top;\n",
       "    }\n",
       "\n",
       "    .dataframe thead th {\n",
       "        text-align: right;\n",
       "    }\n",
       "</style>\n",
       "<table border=\"1\" class=\"dataframe\">\n",
       "  <thead>\n",
       "    <tr style=\"text-align: right;\">\n",
       "      <th></th>\n",
       "      <th>Score</th>\n",
       "      <th>Text</th>\n",
       "      <th>Text_old</th>\n",
       "    </tr>\n",
       "  </thead>\n",
       "  <tbody>\n",
       "    <tr>\n",
       "      <th>0</th>\n",
       "      <td>5</td>\n",
       "      <td>[i, call, this, product, puppy, crack, i, have...</td>\n",
       "      <td>I call this product, \"puppy crack\".  I have a ...</td>\n",
       "    </tr>\n",
       "    <tr>\n",
       "      <th>1</th>\n",
       "      <td>5</td>\n",
       "      <td>[for, the, longest, time, i, ve, found, it, di...</td>\n",
       "      <td>For the longest time, I've found it difficult ...</td>\n",
       "    </tr>\n",
       "    <tr>\n",
       "      <th>2</th>\n",
       "      <td>4</td>\n",
       "      <td>[this, is, a, good, choice, for, anyone, who, ...</td>\n",
       "      <td>This is a good choice for anyone who likes sal...</td>\n",
       "    </tr>\n",
       "    <tr>\n",
       "      <th>3</th>\n",
       "      <td>4</td>\n",
       "      <td>[i, got, this, for, my, dog, about, a, week, a...</td>\n",
       "      <td>I got this for my dog about a week ago because...</td>\n",
       "    </tr>\n",
       "    <tr>\n",
       "      <th>4</th>\n",
       "      <td>4</td>\n",
       "      <td>[i, typically, get, the, brownie, crunch, flav...</td>\n",
       "      <td>I typically get the brownie crunch flavor, but...</td>\n",
       "    </tr>\n",
       "  </tbody>\n",
       "</table>\n",
       "</div>"
      ],
      "text/plain": [
       "   Score                                               Text  \\\n",
       "0      5  [i, call, this, product, puppy, crack, i, have...   \n",
       "1      5  [for, the, longest, time, i, ve, found, it, di...   \n",
       "2      4  [this, is, a, good, choice, for, anyone, who, ...   \n",
       "3      4  [i, got, this, for, my, dog, about, a, week, a...   \n",
       "4      4  [i, typically, get, the, brownie, crunch, flav...   \n",
       "\n",
       "                                            Text_old  \n",
       "0  I call this product, \"puppy crack\".  I have a ...  \n",
       "1  For the longest time, I've found it difficult ...  \n",
       "2  This is a good choice for anyone who likes sal...  \n",
       "3  I got this for my dog about a week ago because...  \n",
       "4  I typically get the brownie crunch flavor, but...  "
      ]
     },
     "execution_count": 20,
     "metadata": {},
     "output_type": "execute_result"
    }
   ],
   "source": [
    "data.head()"
   ]
  },
  {
   "cell_type": "code",
   "execution_count": 38,
   "metadata": {},
   "outputs": [],
   "source": [
    "### 5. Removing Stopwords\n",
    "from nltk.corpus import stopwords\n",
    "stopwords.words(\"english\")\n",
    "stop_words=set(stopwords.words(\"english\"))\n",
    "def remove_stopword(text):\n",
    "    return [x for x in text if x not in stop_words]\n",
    "data[\"Text\"]=data[\"Text\"].apply(lambda x: remove_stopword(x))"
   ]
  },
  {
   "cell_type": "code",
   "execution_count": 49,
   "metadata": {},
   "outputs": [
    {
     "name": "stdout",
     "output_type": "stream",
     "text": [
      "For the longest time, I've found it difficult to justify blowing $3 on a bowl of instant ramen. Sure, the stuff's imported and most of what you're paying for is the cost of shipping from Japan. You can also get pretty decent domestic bowl ramen for around $1 a bowl. But since most of the ramen bowls coming from SoCal are Korean made (i.e., spicy), it's difficult to find a decent mild flavored Japanese ramen bowl. Menraku Shoyu is mildly flavored (just soy sauce) and not painfully salty like Nongshim, so I don't have to throw out half the flavor packet. The texture of the noodles has a nice bit to it. I don't get these very often since they're relatively expensive, but you get what you paid for. Highly recommended if you want a real Japanese style ramen and want a subtle flavor that isn't spicy.\n",
      "['longest', 'time', 'found', 'difficult', 'justify', 'blowing', 'bowl', 'instant', 'ramen', 'sure', 'stuff', 'imported', 'paying', 'cost', 'shipping', 'japan', 'also', 'get', 'pretty', 'decent', 'domestic', 'bowl', 'ramen', 'around', 'bowl', 'since', 'ramen', 'bowls', 'coming', 'socal', 'korean', 'made', 'e', 'spicy', 'difficult', 'find', 'decent', 'mild', 'flavored', 'japanese', 'ramen', 'bowl', 'menraku', 'shoyu', 'mildly', 'flavored', 'soy', 'sauce', 'painfully', 'salty', 'like', 'nongshim', 'throw', 'half', 'flavor', 'packet', 'texture', 'noodles', 'nice', 'bit', 'get', 'often', 'since', 'relatively', 'expensive', 'get', 'paid', 'highly', 'recommended', 'want', 'real', 'japanese', 'style', 'ramen', 'want', 'subtle', 'flavor', 'spicy']\n"
     ]
    }
   ],
   "source": [
    "print(data.Text_old[1])\n",
    "print(data.Text[1])"
   ]
  },
  {
   "cell_type": "code",
   "execution_count": 51,
   "metadata": {},
   "outputs": [],
   "source": [
    "### 6. Stemming and Lemmatization\n",
    "\n",
    "#6.1 Stemming\n",
    "\n",
    "from nltk.stem import PorterStemmer\n",
    "stemmer=PorterStemmer()\n",
    "def stemming_word(text):\n",
    "    return [stemmer.stem(i) for i in text]\n",
    "data[\"Text_stem\"]=data[\"Text\"].apply(lambda x: stemming_word(x))"
   ]
  },
  {
   "cell_type": "code",
   "execution_count": 53,
   "metadata": {},
   "outputs": [
    {
     "name": "stdout",
     "output_type": "stream",
     "text": [
      "For the longest time, I've found it difficult to justify blowing $3 on a bowl of instant ramen. Sure, the stuff's imported and most of what you're paying for is the cost of shipping from Japan. You can also get pretty decent domestic bowl ramen for around $1 a bowl. But since most of the ramen bowls coming from SoCal are Korean made (i.e., spicy), it's difficult to find a decent mild flavored Japanese ramen bowl. Menraku Shoyu is mildly flavored (just soy sauce) and not painfully salty like Nongshim, so I don't have to throw out half the flavor packet. The texture of the noodles has a nice bit to it. I don't get these very often since they're relatively expensive, but you get what you paid for. Highly recommended if you want a real Japanese style ramen and want a subtle flavor that isn't spicy.\n",
      "******************************\n",
      "['longest', 'time', 'found', 'difficult', 'justify', 'blowing', 'bowl', 'instant', 'ramen', 'sure', 'stuff', 'imported', 'paying', 'cost', 'shipping', 'japan', 'also', 'get', 'pretty', 'decent', 'domestic', 'bowl', 'ramen', 'around', 'bowl', 'since', 'ramen', 'bowls', 'coming', 'socal', 'korean', 'made', 'e', 'spicy', 'difficult', 'find', 'decent', 'mild', 'flavored', 'japanese', 'ramen', 'bowl', 'menraku', 'shoyu', 'mildly', 'flavored', 'soy', 'sauce', 'painfully', 'salty', 'like', 'nongshim', 'throw', 'half', 'flavor', 'packet', 'texture', 'noodles', 'nice', 'bit', 'get', 'often', 'since', 'relatively', 'expensive', 'get', 'paid', 'highly', 'recommended', 'want', 'real', 'japanese', 'style', 'ramen', 'want', 'subtle', 'flavor', 'spicy']\n",
      "******************************\n",
      "['longest', 'time', 'found', 'difficult', 'justifi', 'blow', 'bowl', 'instant', 'ramen', 'sure', 'stuff', 'import', 'pay', 'cost', 'ship', 'japan', 'also', 'get', 'pretti', 'decent', 'domest', 'bowl', 'ramen', 'around', 'bowl', 'sinc', 'ramen', 'bowl', 'come', 'socal', 'korean', 'made', 'e', 'spici', 'difficult', 'find', 'decent', 'mild', 'flavor', 'japanes', 'ramen', 'bowl', 'menraku', 'shoyu', 'mildli', 'flavor', 'soy', 'sauc', 'pain', 'salti', 'like', 'nongshim', 'throw', 'half', 'flavor', 'packet', 'textur', 'noodl', 'nice', 'bit', 'get', 'often', 'sinc', 'rel', 'expens', 'get', 'paid', 'highli', 'recommend', 'want', 'real', 'japanes', 'style', 'ramen', 'want', 'subtl', 'flavor', 'spici']\n"
     ]
    }
   ],
   "source": [
    "print(data.Text_old[1])\n",
    "print(\"*\"*30)\n",
    "print(data.Text[1])\n",
    "print(\"*\"*30)\n",
    "print(data[\"Text_stem\"][1])"
   ]
  },
  {
   "cell_type": "code",
   "execution_count": 54,
   "metadata": {},
   "outputs": [],
   "source": [
    "# 6.2 Lemmatization\n",
    "from nltk.stem import WordNetLemmatizer\n",
    "lemma=WordNetLemmatizer()\n",
    "def lemm_word(text):\n",
    "    return [lemma.lemmatize(word=i,pos=\"v\") for i in text]\n",
    "data[\"Text_lemm\"]=data[\"Text\"].apply(lambda x: lemm_word(x))"
   ]
  },
  {
   "cell_type": "code",
   "execution_count": 55,
   "metadata": {
    "scrolled": true
   },
   "outputs": [
    {
     "name": "stdout",
     "output_type": "stream",
     "text": [
      "For the longest time, I've found it difficult to justify blowing $3 on a bowl of instant ramen. Sure, the stuff's imported and most of what you're paying for is the cost of shipping from Japan. You can also get pretty decent domestic bowl ramen for around $1 a bowl. But since most of the ramen bowls coming from SoCal are Korean made (i.e., spicy), it's difficult to find a decent mild flavored Japanese ramen bowl. Menraku Shoyu is mildly flavored (just soy sauce) and not painfully salty like Nongshim, so I don't have to throw out half the flavor packet. The texture of the noodles has a nice bit to it. I don't get these very often since they're relatively expensive, but you get what you paid for. Highly recommended if you want a real Japanese style ramen and want a subtle flavor that isn't spicy.\n",
      "******************************\n",
      "['longest', 'time', 'found', 'difficult', 'justify', 'blowing', 'bowl', 'instant', 'ramen', 'sure', 'stuff', 'imported', 'paying', 'cost', 'shipping', 'japan', 'also', 'get', 'pretty', 'decent', 'domestic', 'bowl', 'ramen', 'around', 'bowl', 'since', 'ramen', 'bowls', 'coming', 'socal', 'korean', 'made', 'e', 'spicy', 'difficult', 'find', 'decent', 'mild', 'flavored', 'japanese', 'ramen', 'bowl', 'menraku', 'shoyu', 'mildly', 'flavored', 'soy', 'sauce', 'painfully', 'salty', 'like', 'nongshim', 'throw', 'half', 'flavor', 'packet', 'texture', 'noodles', 'nice', 'bit', 'get', 'often', 'since', 'relatively', 'expensive', 'get', 'paid', 'highly', 'recommended', 'want', 'real', 'japanese', 'style', 'ramen', 'want', 'subtle', 'flavor', 'spicy']\n",
      "******************************\n",
      "['longest', 'time', 'found', 'difficult', 'justifi', 'blow', 'bowl', 'instant', 'ramen', 'sure', 'stuff', 'import', 'pay', 'cost', 'ship', 'japan', 'also', 'get', 'pretti', 'decent', 'domest', 'bowl', 'ramen', 'around', 'bowl', 'sinc', 'ramen', 'bowl', 'come', 'socal', 'korean', 'made', 'e', 'spici', 'difficult', 'find', 'decent', 'mild', 'flavor', 'japanes', 'ramen', 'bowl', 'menraku', 'shoyu', 'mildli', 'flavor', 'soy', 'sauc', 'pain', 'salti', 'like', 'nongshim', 'throw', 'half', 'flavor', 'packet', 'textur', 'noodl', 'nice', 'bit', 'get', 'often', 'sinc', 'rel', 'expens', 'get', 'paid', 'highli', 'recommend', 'want', 'real', 'japanes', 'style', 'ramen', 'want', 'subtl', 'flavor', 'spici']\n",
      "******************************\n",
      "['longest', 'time', 'find', 'difficult', 'justify', 'blow', 'bowl', 'instant', 'ramen', 'sure', 'stuff', 'import', 'pay', 'cost', 'ship', 'japan', 'also', 'get', 'pretty', 'decent', 'domestic', 'bowl', 'ramen', 'around', 'bowl', 'since', 'ramen', 'bowl', 'come', 'socal', 'korean', 'make', 'e', 'spicy', 'difficult', 'find', 'decent', 'mild', 'flavor', 'japanese', 'ramen', 'bowl', 'menraku', 'shoyu', 'mildly', 'flavor', 'soy', 'sauce', 'painfully', 'salty', 'like', 'nongshim', 'throw', 'half', 'flavor', 'packet', 'texture', 'noodles', 'nice', 'bite', 'get', 'often', 'since', 'relatively', 'expensive', 'get', 'pay', 'highly', 'recommend', 'want', 'real', 'japanese', 'style', 'ramen', 'want', 'subtle', 'flavor', 'spicy']\n"
     ]
    }
   ],
   "source": [
    "print(data.Text_old[1])\n",
    "print(\"*\"*30)\n",
    "print(data.Text[1])\n",
    "print(\"*\"*30)\n",
    "print(data[\"Text_stem\"][1])\n",
    "print(\"*\"*30)\n",
    "print(data[\"Text_lemm\"][1])"
   ]
  },
  {
   "cell_type": "code",
   "execution_count": 56,
   "metadata": {},
   "outputs": [],
   "source": [
    "#### Lets consider lemmatizer output further \n",
    "data[\"Text\"]=data[\"Text\"].apply(lambda x: lemm_word(x))"
   ]
  },
  {
   "cell_type": "code",
   "execution_count": 57,
   "metadata": {},
   "outputs": [
    {
     "data": {
      "text/html": [
       "<div>\n",
       "<style scoped>\n",
       "    .dataframe tbody tr th:only-of-type {\n",
       "        vertical-align: middle;\n",
       "    }\n",
       "\n",
       "    .dataframe tbody tr th {\n",
       "        vertical-align: top;\n",
       "    }\n",
       "\n",
       "    .dataframe thead th {\n",
       "        text-align: right;\n",
       "    }\n",
       "</style>\n",
       "<table border=\"1\" class=\"dataframe\">\n",
       "  <thead>\n",
       "    <tr style=\"text-align: right;\">\n",
       "      <th></th>\n",
       "      <th>Score</th>\n",
       "      <th>Text</th>\n",
       "      <th>Text_old</th>\n",
       "      <th>Text_stem</th>\n",
       "      <th>Text_lemm</th>\n",
       "    </tr>\n",
       "  </thead>\n",
       "  <tbody>\n",
       "    <tr>\n",
       "      <th>0</th>\n",
       "      <td>5</td>\n",
       "      <td>[call, product, puppy, crack, month, old, lab,...</td>\n",
       "      <td>I call this product, \"puppy crack\".  I have a ...</td>\n",
       "      <td>[call, product, puppi, crack, month, old, lab,...</td>\n",
       "      <td>[call, product, puppy, crack, month, old, lab,...</td>\n",
       "    </tr>\n",
       "    <tr>\n",
       "      <th>1</th>\n",
       "      <td>5</td>\n",
       "      <td>[longest, time, find, difficult, justify, blow...</td>\n",
       "      <td>For the longest time, I've found it difficult ...</td>\n",
       "      <td>[longest, time, found, difficult, justifi, blo...</td>\n",
       "      <td>[longest, time, find, difficult, justify, blow...</td>\n",
       "    </tr>\n",
       "    <tr>\n",
       "      <th>2</th>\n",
       "      <td>4</td>\n",
       "      <td>[good, choice, anyone, like, salmon, even, nev...</td>\n",
       "      <td>This is a good choice for anyone who likes sal...</td>\n",
       "      <td>[good, choic, anyon, like, salmon, even, never...</td>\n",
       "      <td>[good, choice, anyone, like, salmon, even, nev...</td>\n",
       "    </tr>\n",
       "    <tr>\n",
       "      <th>3</th>\n",
       "      <td>4</td>\n",
       "      <td>[get, dog, week, ago, eat, food, fast, often, ...</td>\n",
       "      <td>I got this for my dog about a week ago because...</td>\n",
       "      <td>[got, dog, week, ago, eat, food, fast, often, ...</td>\n",
       "      <td>[get, dog, week, ago, eat, food, fast, often, ...</td>\n",
       "    </tr>\n",
       "    <tr>\n",
       "      <th>4</th>\n",
       "      <td>4</td>\n",
       "      <td>[typically, get, brownie, crunch, flavor, happ...</td>\n",
       "      <td>I typically get the brownie crunch flavor, but...</td>\n",
       "      <td>[typic, get, browni, crunch, flavor, happen, g...</td>\n",
       "      <td>[typically, get, brownie, crunch, flavor, happ...</td>\n",
       "    </tr>\n",
       "  </tbody>\n",
       "</table>\n",
       "</div>"
      ],
      "text/plain": [
       "   Score                                               Text  \\\n",
       "0      5  [call, product, puppy, crack, month, old, lab,...   \n",
       "1      5  [longest, time, find, difficult, justify, blow...   \n",
       "2      4  [good, choice, anyone, like, salmon, even, nev...   \n",
       "3      4  [get, dog, week, ago, eat, food, fast, often, ...   \n",
       "4      4  [typically, get, brownie, crunch, flavor, happ...   \n",
       "\n",
       "                                            Text_old  \\\n",
       "0  I call this product, \"puppy crack\".  I have a ...   \n",
       "1  For the longest time, I've found it difficult ...   \n",
       "2  This is a good choice for anyone who likes sal...   \n",
       "3  I got this for my dog about a week ago because...   \n",
       "4  I typically get the brownie crunch flavor, but...   \n",
       "\n",
       "                                           Text_stem  \\\n",
       "0  [call, product, puppi, crack, month, old, lab,...   \n",
       "1  [longest, time, found, difficult, justifi, blo...   \n",
       "2  [good, choic, anyon, like, salmon, even, never...   \n",
       "3  [got, dog, week, ago, eat, food, fast, often, ...   \n",
       "4  [typic, get, browni, crunch, flavor, happen, g...   \n",
       "\n",
       "                                           Text_lemm  \n",
       "0  [call, product, puppy, crack, month, old, lab,...  \n",
       "1  [longest, time, find, difficult, justify, blow...  \n",
       "2  [good, choice, anyone, like, salmon, even, nev...  \n",
       "3  [get, dog, week, ago, eat, food, fast, often, ...  \n",
       "4  [typically, get, brownie, crunch, flavor, happ...  "
      ]
     },
     "execution_count": 57,
     "metadata": {},
     "output_type": "execute_result"
    }
   ],
   "source": [
    "data.head()"
   ]
  },
  {
   "cell_type": "code",
   "execution_count": 65,
   "metadata": {},
   "outputs": [
    {
     "name": "stdout",
     "output_type": "stream",
     "text": [
      "['longest', 'time', 'find', 'difficult', 'justify', 'blow', 'bowl', 'instant', 'ramen', 'sure', 'stuff', 'import', 'pay', 'cost', 'ship', 'japan', 'also', 'get', 'pretty', 'decent', 'domestic', 'bowl', 'ramen', 'around', 'bowl', 'since', 'ramen', 'bowl', 'come', 'socal', 'korean', 'make', 'e', 'spicy', 'difficult', 'find', 'decent', 'mild', 'flavor', 'japanese', 'ramen', 'bowl', 'menraku', 'shoyu', 'mildly', 'flavor', 'soy', 'sauce', 'painfully', 'salty', 'like', 'nongshim', 'throw', 'half', 'flavor', 'packet', 'texture', 'noodles', 'nice', 'bite', 'get', 'often', 'since', 'relatively', 'expensive', 'get', 'pay', 'highly', 'recommend', 'want', 'real', 'japanese', 'style', 'ramen', 'want', 'subtle', 'flavor', 'spicy']\n",
      "['longest', 'time', 'find', 'difficult', 'justify', 'blow', 'bowl', 'instant', 'ramen', 'sure', 'stuff', 'import', 'pay', 'cost', 'ship', 'japan', 'also', 'get', 'pretty', 'decent', 'domestic', 'bowl', 'ramen', 'around', 'bowl', 'since', 'ramen', 'bowl', 'come', 'socal', 'korean', 'make', 'spicy', 'difficult', 'find', 'decent', 'mild', 'flavor', 'japanese', 'ramen', 'bowl', 'menraku', 'shoyu', 'mildly', 'flavor', 'soy', 'sauce', 'painfully', 'salty', 'like', 'nongshim', 'throw', 'half', 'flavor', 'packet', 'texture', 'noodles', 'nice', 'bite', 'get', 'often', 'since', 'relatively', 'expensive', 'get', 'pay', 'highly', 'recommend', 'want', 'real', 'japanese', 'style', 'ramen', 'want', 'subtle', 'flavor', 'spicy']\n"
     ]
    }
   ],
   "source": [
    "print(data[\"Text\"][1])\n",
    "print([i for i in data[\"Text\"][1] if len(i)>2])"
   ]
  },
  {
   "cell_type": "code",
   "execution_count": 66,
   "metadata": {},
   "outputs": [],
   "source": [
    "### 7. Remove the words having length <= 2 \n",
    "def remove_small_len_word(text):\n",
    "    return [i for i in text if len(i) > 2]\n",
    "data[\"Text\"]=data[\"Text\"].apply(lambda x: remove_small_len_word(x))"
   ]
  },
  {
   "cell_type": "code",
   "execution_count": 80,
   "metadata": {
    "scrolled": true
   },
   "outputs": [
    {
     "data": {
      "text/plain": [
       "'longest time find difficult justify blow bowl instant ramen sure stuff import pay cost ship japan also get pretty decent domestic bowl ramen around bowl since ramen bowl come socal korean make spicy difficult find decent mild flavor japanese ramen bowl menraku shoyu mildly flavor soy sauce painfully salty like nongshim throw half flavor packet texture noodles nice bite get often since relatively expensive get pay highly recommend want real japanese style ramen want subtle flavor spicy'"
      ]
     },
     "execution_count": 80,
     "metadata": {},
     "output_type": "execute_result"
    }
   ],
   "source": [
    "\" \".join(data[\"Text\"][1])"
   ]
  },
  {
   "cell_type": "code",
   "execution_count": 82,
   "metadata": {},
   "outputs": [],
   "source": [
    "### 8. Convert the list of tokens into back to the string \n",
    "def convert_to_string(text):\n",
    "    return ' '.join(text)\n",
    "data[\"Text\"]=data[\"Text\"].apply(lambda x: convert_to_string(x))"
   ]
  },
  {
   "cell_type": "code",
   "execution_count": 83,
   "metadata": {},
   "outputs": [
    {
     "data": {
      "text/html": [
       "<div>\n",
       "<style scoped>\n",
       "    .dataframe tbody tr th:only-of-type {\n",
       "        vertical-align: middle;\n",
       "    }\n",
       "\n",
       "    .dataframe tbody tr th {\n",
       "        vertical-align: top;\n",
       "    }\n",
       "\n",
       "    .dataframe thead th {\n",
       "        text-align: right;\n",
       "    }\n",
       "</style>\n",
       "<table border=\"1\" class=\"dataframe\">\n",
       "  <thead>\n",
       "    <tr style=\"text-align: right;\">\n",
       "      <th></th>\n",
       "      <th>Score</th>\n",
       "      <th>Text</th>\n",
       "      <th>Text_old</th>\n",
       "      <th>Text_stem</th>\n",
       "      <th>Text_lemm</th>\n",
       "    </tr>\n",
       "  </thead>\n",
       "  <tbody>\n",
       "    <tr>\n",
       "      <th>0</th>\n",
       "      <td>5</td>\n",
       "      <td>call product puppy crack month old lab pup typ...</td>\n",
       "      <td>I call this product, \"puppy crack\".  I have a ...</td>\n",
       "      <td>[call, product, puppi, crack, month, old, lab,...</td>\n",
       "      <td>[call, product, puppy, crack, month, old, lab,...</td>\n",
       "    </tr>\n",
       "    <tr>\n",
       "      <th>1</th>\n",
       "      <td>5</td>\n",
       "      <td>longest time find difficult justify blow bowl ...</td>\n",
       "      <td>For the longest time, I've found it difficult ...</td>\n",
       "      <td>[longest, time, found, difficult, justifi, blo...</td>\n",
       "      <td>[longest, time, find, difficult, justify, blow...</td>\n",
       "    </tr>\n",
       "    <tr>\n",
       "      <th>2</th>\n",
       "      <td>4</td>\n",
       "      <td>good choice anyone like salmon even never make...</td>\n",
       "      <td>This is a good choice for anyone who likes sal...</td>\n",
       "      <td>[good, choic, anyon, like, salmon, even, never...</td>\n",
       "      <td>[good, choice, anyone, like, salmon, even, nev...</td>\n",
       "    </tr>\n",
       "    <tr>\n",
       "      <th>3</th>\n",
       "      <td>4</td>\n",
       "      <td>get dog week ago eat food fast often want huma...</td>\n",
       "      <td>I got this for my dog about a week ago because...</td>\n",
       "      <td>[got, dog, week, ago, eat, food, fast, often, ...</td>\n",
       "      <td>[get, dog, week, ago, eat, food, fast, often, ...</td>\n",
       "    </tr>\n",
       "    <tr>\n",
       "      <th>4</th>\n",
       "      <td>4</td>\n",
       "      <td>typically get brownie crunch flavor happen gra...</td>\n",
       "      <td>I typically get the brownie crunch flavor, but...</td>\n",
       "      <td>[typic, get, browni, crunch, flavor, happen, g...</td>\n",
       "      <td>[typically, get, brownie, crunch, flavor, happ...</td>\n",
       "    </tr>\n",
       "  </tbody>\n",
       "</table>\n",
       "</div>"
      ],
      "text/plain": [
       "   Score                                               Text  \\\n",
       "0      5  call product puppy crack month old lab pup typ...   \n",
       "1      5  longest time find difficult justify blow bowl ...   \n",
       "2      4  good choice anyone like salmon even never make...   \n",
       "3      4  get dog week ago eat food fast often want huma...   \n",
       "4      4  typically get brownie crunch flavor happen gra...   \n",
       "\n",
       "                                            Text_old  \\\n",
       "0  I call this product, \"puppy crack\".  I have a ...   \n",
       "1  For the longest time, I've found it difficult ...   \n",
       "2  This is a good choice for anyone who likes sal...   \n",
       "3  I got this for my dog about a week ago because...   \n",
       "4  I typically get the brownie crunch flavor, but...   \n",
       "\n",
       "                                           Text_stem  \\\n",
       "0  [call, product, puppi, crack, month, old, lab,...   \n",
       "1  [longest, time, found, difficult, justifi, blo...   \n",
       "2  [good, choic, anyon, like, salmon, even, never...   \n",
       "3  [got, dog, week, ago, eat, food, fast, often, ...   \n",
       "4  [typic, get, browni, crunch, flavor, happen, g...   \n",
       "\n",
       "                                           Text_lemm  \n",
       "0  [call, product, puppy, crack, month, old, lab,...  \n",
       "1  [longest, time, find, difficult, justify, blow...  \n",
       "2  [good, choice, anyone, like, salmon, even, nev...  \n",
       "3  [get, dog, week, ago, eat, food, fast, often, ...  \n",
       "4  [typically, get, brownie, crunch, flavor, happ...  "
      ]
     },
     "execution_count": 83,
     "metadata": {},
     "output_type": "execute_result"
    }
   ],
   "source": [
    "data.head()"
   ]
  },
  {
   "cell_type": "code",
   "execution_count": 84,
   "metadata": {},
   "outputs": [
    {
     "data": {
      "text/html": [
       "<div>\n",
       "<style scoped>\n",
       "    .dataframe tbody tr th:only-of-type {\n",
       "        vertical-align: middle;\n",
       "    }\n",
       "\n",
       "    .dataframe tbody tr th {\n",
       "        vertical-align: top;\n",
       "    }\n",
       "\n",
       "    .dataframe thead th {\n",
       "        text-align: right;\n",
       "    }\n",
       "</style>\n",
       "<table border=\"1\" class=\"dataframe\">\n",
       "  <thead>\n",
       "    <tr style=\"text-align: right;\">\n",
       "      <th></th>\n",
       "      <th>index</th>\n",
       "      <th>Id</th>\n",
       "      <th>ProductId</th>\n",
       "      <th>UserId</th>\n",
       "      <th>ProfileName</th>\n",
       "      <th>HelpfulnessNumerator</th>\n",
       "      <th>HelpfulnessDenominator</th>\n",
       "      <th>Score</th>\n",
       "      <th>Time</th>\n",
       "      <th>Summary</th>\n",
       "      <th>Text</th>\n",
       "    </tr>\n",
       "  </thead>\n",
       "  <tbody>\n",
       "    <tr>\n",
       "      <th>0</th>\n",
       "      <td>516266</td>\n",
       "      <td>516267</td>\n",
       "      <td>B000H1217M</td>\n",
       "      <td>A3M4JATDUBEULY</td>\n",
       "      <td>Calayus</td>\n",
       "      <td>0</td>\n",
       "      <td>0</td>\n",
       "      <td>5</td>\n",
       "      <td>1344643200</td>\n",
       "      <td>My Dog &amp; Pup LOVE it!</td>\n",
       "      <td>I call this product, \"puppy crack\".  I have a ...</td>\n",
       "    </tr>\n",
       "  </tbody>\n",
       "</table>\n",
       "</div>"
      ],
      "text/plain": [
       "    index      Id   ProductId          UserId ProfileName  \\\n",
       "0  516266  516267  B000H1217M  A3M4JATDUBEULY     Calayus   \n",
       "\n",
       "   HelpfulnessNumerator  HelpfulnessDenominator  Score        Time  \\\n",
       "0                     0                       0      5  1344643200   \n",
       "\n",
       "                 Summary                                               Text  \n",
       "0  My Dog & Pup LOVE it!  I call this product, \"puppy crack\".  I have a ...  "
      ]
     },
     "execution_count": 84,
     "metadata": {},
     "output_type": "execute_result"
    }
   ],
   "source": [
    "data_copy1=data_copy.copy()\n",
    "data_copy1.head(1)"
   ]
  },
  {
   "cell_type": "markdown",
   "metadata": {},
   "source": [
    "# Final data preprocessing for our problem statement"
   ]
  },
  {
   "cell_type": "code",
   "execution_count": 155,
   "metadata": {},
   "outputs": [],
   "source": [
    "contractions = {\n",
    "\"ain't\": \"am not / are not\",\n",
    "\"aren't\": \"are not / am not\",\n",
    "\"can't\": \"cannot\",\n",
    "\"can't've\": \"cannot have\",\n",
    "\"'cause\": \"because\",\n",
    "\"could've\": \"could have\",\n",
    "\"couldn't\": \"could not\",\n",
    "\"couldn't've\": \"could not have\",\n",
    "\"didn't\": \"did not\",\n",
    "\"doesn't\": \"does not\",\n",
    "\"don't\": \"do not\",\n",
    "\"hadn't\": \"had not\",\n",
    "\"hadn't've\": \"had not have\",\n",
    "\"hasn't\": \"has not\",\n",
    "\"haven't\": \"have not\",\n",
    "\"he'd\": \"he had / he would\",\n",
    "\"he'd've\": \"he would have\",\n",
    "\"he'll\": \"he shall / he will\",\n",
    "\"he'll've\": \"he shall have / he will have\",\n",
    "\"he's\": \"he has / he is\",\n",
    "\"how'd\": \"how did\",\n",
    "\"how'd'y\": \"how do you\",\n",
    "\"how'll\": \"how will\",\n",
    "\"how's\": \"how has / how is\",\n",
    "\"i'd\": \"I had / I would\",\n",
    "\"i'd've\": \"I would have\",\n",
    "\"i'll\": \"I shall / I will\",\n",
    "\"i'll've\": \"I shall have / I will have\",\n",
    "\"i'm\": \"I am\",\n",
    "\"i've\": \"I have\",\n",
    "\"isn't\": \"is not\",\n",
    "\"it'd\": \"it had / it would\",\n",
    "\"it'd've\": \"it would have\",\n",
    "\"it'll\": \"it shall / it will\",\n",
    "\"it'll've\": \"it shall have / it will have\",\n",
    "\"it's\": \"it has / it is\",\n",
    "\"let's\": \"let us\",\n",
    "\"ma'am\": \"madam\",\n",
    "\"mayn't\": \"may not\",\n",
    "\"might've\": \"might have\",\n",
    "\"mightn't\": \"might not\",\n",
    "\"mightn't've\": \"might not have\",\n",
    "\"must've\": \"must have\",\n",
    "\"mustn't\": \"must not\",\n",
    "\"mustn't've\": \"must not have\",\n",
    "\"needn't\": \"need not\",\n",
    "\"needn't've\": \"need not have\",\n",
    "\"o'clock\": \"of the clock\",\n",
    "\"oughtn't\": \"ought not\",\n",
    "\"oughtn't've\": \"ought not have\",\n",
    "\"shan't\": \"shall not\",\n",
    "\"sha'n't\": \"shall not\",\n",
    "\"shan't've\": \"shall not have\",\n",
    "\"she'd\": \"she had / she would\",\n",
    "\"she'd've\": \"she would have\",\n",
    "\"she'll\": \"she shall / she will\",\n",
    "\"she'll've\": \"she shall have / she will have\",\n",
    "\"she's\": \"she has / she is\",\n",
    "\"should've\": \"should have\",\n",
    "\"shouldn't\": \"should not\",\n",
    "\"shouldn't've\": \"should not have\",\n",
    "\"so've\": \"so have\",\n",
    "\"so's\": \"so as / so is\",\n",
    "\"that'd\": \"that would / that had\",\n",
    "\"that'd've\": \"that would have\",\n",
    "\"that's\": \"that has / that is\",\n",
    "\"there'd\": \"there had / there would\",\n",
    "\"there'd've\": \"there would have\",\n",
    "\"there's\": \"there has / there is\",\n",
    "\"they'd\": \"they had / they would\",\n",
    "\"they'd've\": \"they would have\",\n",
    "\"they'll\": \"they shall / they will\",\n",
    "\"they'll've\": \"they shall have / they will have\",\n",
    "\"they're\": \"they are\",\n",
    "\"they've\": \"they have\",\n",
    "\"to've\": \"to have\",\n",
    "\"wasn't\": \"was not\",\n",
    "\"we'd\": \"we had / we would\",\n",
    "\"we'd've\": \"we would have\",\n",
    "\"we'll\": \"we will\",\n",
    "\"we'll've\": \"we will have\",\n",
    "\"we're\": \"we are\",\n",
    "\"we've\": \"we have\",\n",
    "\"weren't\": \"were not\",\n",
    "\"what'll\": \"what shall / what will\",\n",
    "\"what'll've\": \"what shall have / what will have\",\n",
    "\"what're\": \"what are\",\n",
    "\"what's\": \"what has / what is\",\n",
    "\"what've\": \"what have\",\n",
    "\"when's\": \"when has / when is\",\n",
    "\"when've\": \"when have\",\n",
    "\"where'd\": \"where did\",\n",
    "\"where's\": \"where has / where is\",\n",
    "\"where've\": \"where have\",\n",
    "\"who'll\": \"who shall / who will\",\n",
    "\"who'll've\": \"who shall have / who will have\",\n",
    "\"who's\": \"who has / who is\",\n",
    "\"who've\": \"who have\",\n",
    "\"why's\": \"why has / why is\",\n",
    "\"why've\": \"why have\",\n",
    "\"will've\": \"will have\",\n",
    "\"won't\": \"will not\",\n",
    "\"won't've\": \"will not have\",\n",
    "\"would've\": \"would have\",\n",
    "\"wouldn't\": \"would not\",\n",
    "\"wouldn't've\": \"would not have\",\n",
    "\"y'all\": \"you all\",\n",
    "\"y'all'd\": \"you all would\",\n",
    "\"y'all'd've\": \"you all would have\",\n",
    "\"y'all're\": \"you all are\",\n",
    "\"y'all've\": \"you all have\",\n",
    "\"you'd\": \"you had / you would\",\n",
    "\"you'd've\": \"you would have\",\n",
    "\"you'll\": \"you shall / you will\",\n",
    "\"you'll've\": \"you shall have / you will have\",\n",
    "\"you're\": \"you are\",\n",
    "\"you've\": \"you have\",\n",
    "\"you're\":\"you are\",\n",
    "\"don't\" :\"do not\"\n",
    "}"
   ]
  },
  {
   "cell_type": "code",
   "execution_count": 156,
   "metadata": {},
   "outputs": [
    {
     "name": "stdout",
     "output_type": "stream",
     "text": [
      "what has / what is the best way to ensure this?\n"
     ]
    }
   ],
   "source": [
    "text=\"What's the best way to ensure this?\"\n",
    "for word in text.split():\n",
    "    if word.lower() in contractions:\n",
    "        text = text.replace(word, contractions[word.lower()])\n",
    "print(text)"
   ]
  },
  {
   "cell_type": "code",
   "execution_count": 132,
   "metadata": {},
   "outputs": [
    {
     "data": {
      "text/plain": [
       "(10000, 3)"
      ]
     },
     "execution_count": 132,
     "metadata": {},
     "output_type": "execute_result"
    }
   ],
   "source": [
    "final_df=data_copy[[\"Score\",\"Text\"]]\n",
    "final_df[\"old_text\"]=final_df.Text.copy()\n",
    "final_df.shape"
   ]
  },
  {
   "cell_type": "code",
   "execution_count": 157,
   "metadata": {},
   "outputs": [
    {
     "data": {
      "text/plain": [
       "\"For the longest time, I've found it difficult to justify blowing $3 on a bowl of instant ramen. Sure, the stuff's imported and most of what you're paying for is the cost of shipping from Japan. You can also get pretty decent domestic bowl ramen for around $1 a bowl. But since most of the ramen bowls coming from SoCal are Korean made (i.e., spicy), it's difficult to find a decent mild flavored Japanese ramen bowl. Menraku Shoyu is mildly flavored (just soy sauce) and not painfully salty like Nongshim, so I don't have to throw out half the flavor packet. The texture of the noodles has a nice bit to it. I don't get these very often since they're relatively expensive, but you get what you paid for. Highly recommended if you want a real Japanese style ramen and want a subtle flavor that isn't spicy.\""
      ]
     },
     "execution_count": 157,
     "metadata": {},
     "output_type": "execute_result"
    }
   ],
   "source": [
    "final_df.Text[1]"
   ]
  },
  {
   "cell_type": "code",
   "execution_count": 158,
   "metadata": {
    "scrolled": true
   },
   "outputs": [
    {
     "name": "stdout",
     "output_type": "stream",
     "text": [
      "For the longest time, I've found it difficult to justify blowing $3 on a bowl of instant ramen. Sure, the stuff's imported and most of what you're paying for is the cost of shipping from Japan. You can also get pretty decent domestic bowl ramen for around $1 a bowl. But since most of the ramen bowls coming from SoCal are Korean made (i.e., spicy), it's difficult to find a decent mild flavored Japanese ramen bowl. Menraku Shoyu is mildly flavored (just soy sauce) and not painfully salty like Nongshim, so I don't have to throw out half the flavor packet. The texture of the noodles has a nice bit to it. I don't get these very often since they're relatively expensive, but you get what you paid for. Highly recommended if you want a real Japanese style ramen and want a subtle flavor that isn't spicy.\n"
     ]
    },
    {
     "data": {
      "text/plain": [
       "\"For the longest time, I have found it difficult to justify blowing $3 on a bowl of instant ramen. Sure, the stuff's imported and most of what you're paying for is the cost of shipping from Japan. You can also get pretty decent domestic bowl ramen for around $1 a bowl. But since most of the ramen bowls coming from SoCal are Korean made (i.e., spicy), it's difficult to find a decent mild flavored Japanese ramen bowl. Menraku Shoyu is mildly flavored (just soy sauce) and not painfully salty like Nongshim, so I don't have to throw out half the flavor packet. The texture of the noodles has a nice bit to it. I don't get these very often since they're relatively expensive, but you get what you paid for. Highly recommended if you want a real Japanese style ramen and want a subtle flavor that isn't spicy.\""
      ]
     },
     "execution_count": 158,
     "metadata": {},
     "output_type": "execute_result"
    }
   ],
   "source": [
    "\n",
    "def change(text):\n",
    "    for word in text.split():\n",
    "        if word.lower() in contractions:\n",
    "            return text.replace(word,contractions[word.lower()])\n",
    "print(final_df.Text[1])    \n",
    "change(final_df.Text[1])"
   ]
  },
  {
   "cell_type": "code",
   "execution_count": 151,
   "metadata": {},
   "outputs": [],
   "source": [
    "def change_to_full_form(text):\n",
    "    for word in text.split():\n",
    "        if word.lower() in contractions:\n",
    "            return text.replace(word,contractions[word.lower()])\n",
    "final_df[\"clean_text\"]=final_df[\"Text\"].apply(lambda x: change_to_full_form(x))"
   ]
  },
  {
   "cell_type": "code",
   "execution_count": 152,
   "metadata": {},
   "outputs": [
    {
     "data": {
      "text/plain": [
       "\"For the longest time, I have found it difficult to justify blowing $3 on a bowl of instant ramen. Sure, the stuff's imported and most of what you're paying for is the cost of shipping from Japan. You can also get pretty decent domestic bowl ramen for around $1 a bowl. But since most of the ramen bowls coming from SoCal are Korean made (i.e., spicy), it's difficult to find a decent mild flavored Japanese ramen bowl. Menraku Shoyu is mildly flavored (just soy sauce) and not painfully salty like Nongshim, so I don't have to throw out half the flavor packet. The texture of the noodles has a nice bit to it. I don't get these very often since they're relatively expensive, but you get what you paid for. Highly recommended if you want a real Japanese style ramen and want a subtle flavor that isn't spicy.\""
      ]
     },
     "execution_count": 152,
     "metadata": {},
     "output_type": "execute_result"
    }
   ],
   "source": [
    "final_df.clean_text[1]"
   ]
  },
  {
   "cell_type": "code",
   "execution_count": 163,
   "metadata": {},
   "outputs": [],
   "source": [
    "#### another way to perform full form of verb\n",
    "import re\n",
    "\n",
    "def decontracted(phrase):\n",
    "    # specific\n",
    "    phrase = re.sub(r\"won\\'t\", \"will not\", phrase)\n",
    "    phrase = re.sub(r\"can\\'t\", \"can not\", phrase)\n",
    "\n",
    "    # general\n",
    "    phrase = re.sub(r\"n\\'t\", \" not\", phrase)\n",
    "    phrase = re.sub(r\"\\'re\", \" are\", phrase)\n",
    "    phrase = re.sub(r\"\\'s\", \" is\", phrase)\n",
    "    phrase = re.sub(r\"\\'d\", \" would\", phrase)\n",
    "    phrase = re.sub(r\"\\'ll\", \" will\", phrase)\n",
    "    phrase = re.sub(r\"\\'t\", \" not\", phrase)\n",
    "    phrase = re.sub(r\"\\'ve\", \" have\", phrase)\n",
    "    phrase = re.sub(r\"\\'m\", \" am\", phrase)\n",
    "    return phrase\n",
    "\n",
    "final_df[\"clean_text\"]=final_df[\"Text\"].apply(lambda x: decontracted(str(x).lower()))"
   ]
  },
  {
   "cell_type": "code",
   "execution_count": 165,
   "metadata": {},
   "outputs": [
    {
     "data": {
      "text/plain": [
       "'for the longest time, i have found it difficult to justify blowing $3 on a bowl of instant ramen. sure, the stuff is imported and most of what you are paying for is the cost of shipping from japan. you can also get pretty decent domestic bowl ramen for around $1 a bowl. but since most of the ramen bowls coming from socal are korean made (i.e., spicy), it is difficult to find a decent mild flavored japanese ramen bowl. menraku shoyu is mildly flavored (just soy sauce) and not painfully salty like nongshim, so i do not have to throw out half the flavor packet. the texture of the noodles has a nice bit to it. i do not get these very often since they are relatively expensive, but you get what you paid for. highly recommended if you want a real japanese style ramen and want a subtle flavor that is not spicy.'"
      ]
     },
     "execution_count": 165,
     "metadata": {},
     "output_type": "execute_result"
    }
   ],
   "source": [
    "final_df.clean_text[1]"
   ]
  },
  {
   "cell_type": "code",
   "execution_count": 166,
   "metadata": {},
   "outputs": [],
   "source": [
    "###### all above step in one function \n",
    "import re\n",
    "import nltk\n",
    "from nltk.tokenize import word_tokenize\n",
    "from nltk.corpus import stopwords\n",
    "from nltk.stem import WordNetLemmatizer\n",
    "\n",
    "stop_word=set(stopwords.words(\"english\"))\n",
    "lemm=WordNetLemmatizer()\n",
    "\n",
    "def data_preprocessing(text):\n",
    "    text=re.sub(r'http\\S+','',text)\n",
    "    text=re.sub('a-zA-Z','',text)\n",
    "    text=str(text).lower()\n",
    "    text=word_tokenize(text)\n",
    "    text=[i for i in text if i not in stop_word]\n",
    "    text=[lemm.lemmatize(word=i,pos=\"v\") for i in text]\n",
    "    text=[i for i in text if len(i) > 2]\n",
    "    text=' '.join(text)\n",
    "    return text\n",
    "\n",
    "final_df[\"clean_text\"]=final_df[\"clean_text\"].apply(lambda x: data_preprocessing(x))"
   ]
  },
  {
   "cell_type": "code",
   "execution_count": 168,
   "metadata": {},
   "outputs": [
    {
     "data": {
      "text/html": [
       "<div>\n",
       "<style scoped>\n",
       "    .dataframe tbody tr th:only-of-type {\n",
       "        vertical-align: middle;\n",
       "    }\n",
       "\n",
       "    .dataframe tbody tr th {\n",
       "        vertical-align: top;\n",
       "    }\n",
       "\n",
       "    .dataframe thead th {\n",
       "        text-align: right;\n",
       "    }\n",
       "</style>\n",
       "<table border=\"1\" class=\"dataframe\">\n",
       "  <thead>\n",
       "    <tr style=\"text-align: right;\">\n",
       "      <th></th>\n",
       "      <th>Text</th>\n",
       "      <th>clean_text</th>\n",
       "      <th>Score</th>\n",
       "    </tr>\n",
       "  </thead>\n",
       "  <tbody>\n",
       "    <tr>\n",
       "      <th>0</th>\n",
       "      <td>I call this product, \"puppy crack\".  I have a ...</td>\n",
       "      <td>call product puppy crack month old lab pup typ...</td>\n",
       "      <td>5</td>\n",
       "    </tr>\n",
       "    <tr>\n",
       "      <th>1</th>\n",
       "      <td>For the longest time, I've found it difficult ...</td>\n",
       "      <td>longest time find difficult justify blow bowl ...</td>\n",
       "      <td>5</td>\n",
       "    </tr>\n",
       "    <tr>\n",
       "      <th>2</th>\n",
       "      <td>This is a good choice for anyone who likes sal...</td>\n",
       "      <td>good choice anyone like salmon even never make...</td>\n",
       "      <td>4</td>\n",
       "    </tr>\n",
       "    <tr>\n",
       "      <th>3</th>\n",
       "      <td>I got this for my dog about a week ago because...</td>\n",
       "      <td>get dog week ago eat food fast often want huma...</td>\n",
       "      <td>4</td>\n",
       "    </tr>\n",
       "    <tr>\n",
       "      <th>4</th>\n",
       "      <td>I typically get the brownie crunch flavor, but...</td>\n",
       "      <td>typically get brownie crunch flavor happen gra...</td>\n",
       "      <td>4</td>\n",
       "    </tr>\n",
       "  </tbody>\n",
       "</table>\n",
       "</div>"
      ],
      "text/plain": [
       "                                                Text  \\\n",
       "0  I call this product, \"puppy crack\".  I have a ...   \n",
       "1  For the longest time, I've found it difficult ...   \n",
       "2  This is a good choice for anyone who likes sal...   \n",
       "3  I got this for my dog about a week ago because...   \n",
       "4  I typically get the brownie crunch flavor, but...   \n",
       "\n",
       "                                          clean_text  Score  \n",
       "0  call product puppy crack month old lab pup typ...      5  \n",
       "1  longest time find difficult justify blow bowl ...      5  \n",
       "2  good choice anyone like salmon even never make...      4  \n",
       "3  get dog week ago eat food fast often want huma...      4  \n",
       "4  typically get brownie crunch flavor happen gra...      4  "
      ]
     },
     "execution_count": 168,
     "metadata": {},
     "output_type": "execute_result"
    }
   ],
   "source": [
    "final_df[[\"Text\",\"clean_text\",\"Score\"]].head()"
   ]
  },
  {
   "cell_type": "code",
   "execution_count": 171,
   "metadata": {},
   "outputs": [],
   "source": [
    "#### label the rating column or target column\n",
    "def lebelchange(n):\n",
    "    if n>=4:\n",
    "        return \"positive\"\n",
    "    elif n<=2:\n",
    "        return \"negative\"\n",
    "    else:\n",
    "        return \"nuetral\"\n",
    "final_df[\"target\"]=final_df[\"Score\"].apply(lambda x: lebelchange(x))        "
   ]
  },
  {
   "cell_type": "code",
   "execution_count": 172,
   "metadata": {},
   "outputs": [
    {
     "data": {
      "text/html": [
       "<div>\n",
       "<style scoped>\n",
       "    .dataframe tbody tr th:only-of-type {\n",
       "        vertical-align: middle;\n",
       "    }\n",
       "\n",
       "    .dataframe tbody tr th {\n",
       "        vertical-align: top;\n",
       "    }\n",
       "\n",
       "    .dataframe thead th {\n",
       "        text-align: right;\n",
       "    }\n",
       "</style>\n",
       "<table border=\"1\" class=\"dataframe\">\n",
       "  <thead>\n",
       "    <tr style=\"text-align: right;\">\n",
       "      <th></th>\n",
       "      <th>Score</th>\n",
       "      <th>target</th>\n",
       "      <th>Text</th>\n",
       "      <th>clean_text</th>\n",
       "    </tr>\n",
       "  </thead>\n",
       "  <tbody>\n",
       "    <tr>\n",
       "      <th>0</th>\n",
       "      <td>5</td>\n",
       "      <td>positive</td>\n",
       "      <td>I call this product, \"puppy crack\".  I have a ...</td>\n",
       "      <td>call product puppy crack month old lab pup typ...</td>\n",
       "    </tr>\n",
       "    <tr>\n",
       "      <th>1</th>\n",
       "      <td>5</td>\n",
       "      <td>positive</td>\n",
       "      <td>For the longest time, I've found it difficult ...</td>\n",
       "      <td>longest time find difficult justify blow bowl ...</td>\n",
       "    </tr>\n",
       "    <tr>\n",
       "      <th>2</th>\n",
       "      <td>4</td>\n",
       "      <td>positive</td>\n",
       "      <td>This is a good choice for anyone who likes sal...</td>\n",
       "      <td>good choice anyone like salmon even never make...</td>\n",
       "    </tr>\n",
       "    <tr>\n",
       "      <th>3</th>\n",
       "      <td>4</td>\n",
       "      <td>positive</td>\n",
       "      <td>I got this for my dog about a week ago because...</td>\n",
       "      <td>get dog week ago eat food fast often want huma...</td>\n",
       "    </tr>\n",
       "    <tr>\n",
       "      <th>4</th>\n",
       "      <td>4</td>\n",
       "      <td>positive</td>\n",
       "      <td>I typically get the brownie crunch flavor, but...</td>\n",
       "      <td>typically get brownie crunch flavor happen gra...</td>\n",
       "    </tr>\n",
       "  </tbody>\n",
       "</table>\n",
       "</div>"
      ],
      "text/plain": [
       "   Score    target                                               Text  \\\n",
       "0      5  positive  I call this product, \"puppy crack\".  I have a ...   \n",
       "1      5  positive  For the longest time, I've found it difficult ...   \n",
       "2      4  positive  This is a good choice for anyone who likes sal...   \n",
       "3      4  positive  I got this for my dog about a week ago because...   \n",
       "4      4  positive  I typically get the brownie crunch flavor, but...   \n",
       "\n",
       "                                          clean_text  \n",
       "0  call product puppy crack month old lab pup typ...  \n",
       "1  longest time find difficult justify blow bowl ...  \n",
       "2  good choice anyone like salmon even never make...  \n",
       "3  get dog week ago eat food fast often want huma...  \n",
       "4  typically get brownie crunch flavor happen gra...  "
      ]
     },
     "execution_count": 172,
     "metadata": {},
     "output_type": "execute_result"
    }
   ],
   "source": [
    "final_df[[\"Score\",\"target\",\"Text\",\"clean_text\"]].head()"
   ]
  },
  {
   "cell_type": "markdown",
   "metadata": {},
   "source": [
    "# text visulization"
   ]
  },
  {
   "cell_type": "code",
   "execution_count": 173,
   "metadata": {},
   "outputs": [],
   "source": [
    "## split the data with respect to target\n",
    "positive_review=final_df[final_df.target==\"positive\"][\"clean_text\"]\n",
    "negative_review=final_df[final_df.target==\"negative\"][\"clean_text\"]\n",
    "neutral_review=final_df[final_df.target==\"nuetral\"][\"clean_text\"]"
   ]
  },
  {
   "cell_type": "code",
   "execution_count": 174,
   "metadata": {},
   "outputs": [
    {
     "data": {
      "text/plain": [
       "'longest time find difficult justify blow bowl instant ramen sure stuff import pay cost ship japan also get pretty decent domestic bowl ramen around bowl since ramen bowl come socal korean make i.e. spicy difficult find decent mild flavor japanese ramen bowl menraku shoyu mildly flavor soy sauce painfully salty like nongshim throw half flavor packet texture noodles nice bite get often since relatively expensive get pay highly recommend want real japanese style ramen want subtle flavor spicy'"
      ]
     },
     "execution_count": 174,
     "metadata": {},
     "output_type": "execute_result"
    }
   ],
   "source": [
    "positive_review[1]"
   ]
  },
  {
   "cell_type": "code",
   "execution_count": 175,
   "metadata": {
    "scrolled": true
   },
   "outputs": [
    {
     "data": {
      "image/png": "[encoded data removed]",
      "text/plain": [
       "<Figure size 1440x720 with 1 Axes>"
      ]
     },
     "metadata": {
      "needs_background": "light"
     },
     "output_type": "display_data"
    },
    {
     "data": {
      "image/png": "[encoded data removed]",
      "text/plain": [
       "<Figure size 1440x720 with 1 Axes>"
      ]
     },
     "metadata": {
      "needs_background": "light"
     },
     "output_type": "display_data"
    },
    {
     "data": {
      "image/png": "[encoded data removed]",
      "text/plain": [
       "<Figure size 1440x720 with 1 Axes>"
      ]
     },
     "metadata": {
      "needs_background": "light"
     },
     "output_type": "display_data"
    }
   ],
   "source": [
    "#### taking top 20 word and visulaize and see frequency of word \n",
    "import matplotlib.pyplot as plt\n",
    "color=['Accent','Paired','Pastel1']\n",
    "splitdata=[positive_review,neutral_review,negative_review]\n",
    "for i in range(3):\n",
    "    plt.figure(figsize=(20,10))\n",
    "    pd.Series(' '.join([i for i in splitdata[i]]).split()).value_counts().head(20).plot(kind='bar',colormap=color[i])\n",
    "    plt.show"
   ]
  },
  {
   "cell_type": "code",
   "execution_count": 176,
   "metadata": {
    "scrolled": true
   },
   "outputs": [
    {
     "data": {
      "text/plain": [
       "like       3582\n",
       "taste      3167\n",
       "love       2977\n",
       "great      2746\n",
       "good       2662\n",
       "flavor     2589\n",
       "get        2423\n",
       "make       2362\n",
       "use        2332\n",
       "one        2255\n",
       "try        2165\n",
       "coffee     1955\n",
       "buy        1945\n",
       "would      1925\n",
       "find       1887\n",
       "product    1840\n",
       "tea        1796\n",
       "eat        1665\n",
       "food       1628\n",
       "dog        1539\n",
       "...        1362\n",
       "time       1356\n",
       "really     1350\n",
       "price      1205\n",
       "little     1199\n",
       "much       1196\n",
       "best       1188\n",
       "also       1159\n",
       "order      1125\n",
       "bag        1116\n",
       "dtype: int64"
      ]
     },
     "execution_count": 176,
     "metadata": {},
     "output_type": "execute_result"
    }
   ],
   "source": [
    "### checking most frequent word\n",
    "freq_positive_review=pd.Series(' '.join(positive_review).split()).value_counts()[:30]\n",
    "freq_positive_review"
   ]
  },
  {
   "cell_type": "code",
   "execution_count": 177,
   "metadata": {
    "scrolled": true
   },
   "outputs": [
    {
     "data": {
      "text/plain": [
       "taste      469\n",
       "like       460\n",
       "flavor     395\n",
       "would      358\n",
       "get        306\n",
       "good       297\n",
       "coffee     285\n",
       "use        272\n",
       "water      271\n",
       "try        252\n",
       "make       246\n",
       "buy        226\n",
       "one        221\n",
       "much       213\n",
       "product    210\n",
       "really     183\n",
       "think      180\n",
       "drink      180\n",
       "tea        175\n",
       "eat        161\n",
       "better     159\n",
       "little     153\n",
       "find       152\n",
       "...        152\n",
       "give       151\n",
       "add        145\n",
       "say        142\n",
       "price      139\n",
       "love       135\n",
       "dog        134\n",
       "dtype: int64"
      ]
     },
     "execution_count": 177,
     "metadata": {},
     "output_type": "execute_result"
    }
   ],
   "source": [
    "freq_neutral_review=pd.Series(' '.join(neutral_review).split()).value_counts()[:30]\n",
    "freq_neutral_review"
   ]
  },
  {
   "cell_type": "code",
   "execution_count": 178,
   "metadata": {
    "scrolled": true
   },
   "outputs": [
    {
     "data": {
      "text/plain": [
       "taste      900\n",
       "like       865\n",
       "would      633\n",
       "product    589\n",
       "get        587\n",
       "buy        556\n",
       "one        513\n",
       "flavor     509\n",
       "make       473\n",
       "try        463\n",
       "coffee     455\n",
       "...        455\n",
       "food       436\n",
       "good       387\n",
       "use        381\n",
       "eat        378\n",
       "think      355\n",
       "order      341\n",
       "dog        321\n",
       "even       310\n",
       "tea        298\n",
       "time       288\n",
       "amazon     282\n",
       "find       277\n",
       "love       276\n",
       "bag        276\n",
       "box        273\n",
       "give       253\n",
       "really     251\n",
       "look       251\n",
       "dtype: int64"
      ]
     },
     "execution_count": 178,
     "metadata": {},
     "output_type": "execute_result"
    }
   ],
   "source": [
    "freq_negative_review=pd.Series(' '.join(negative_review).split()).value_counts()[:30]\n",
    "freq_negative_review"
   ]
  },
  {
   "cell_type": "code",
   "execution_count": 179,
   "metadata": {},
   "outputs": [
    {
     "data": {
      "text/plain": [
       "Index(['taste', 'like', 'would', 'product', 'get', 'buy', 'one', 'flavor',\n",
       "       'make', 'try', 'coffee', '...', 'good', 'use', 'eat', 'dog', 'tea',\n",
       "       'find', 'love', 'really'],\n",
       "      dtype='object')"
      ]
     },
     "execution_count": 179,
     "metadata": {},
     "output_type": "execute_result"
    }
   ],
   "source": [
    "(freq_negative_review.index).intersection(freq_positive_review.index).intersection(freq_neutral_review.index)"
   ]
  },
  {
   "cell_type": "code",
   "execution_count": 183,
   "metadata": {},
   "outputs": [],
   "source": [
    "extra_word=['taste', 'like', 'would', 'product', 'get', 'buy', 'one', 'flavor',\n",
    "       'make', 'try', 'coffee', '...', 'good', 'use', 'eat', 'dog', 'tea',\n",
    "       'find', 'love', 'really']\n",
    "def extra_word_remove(text):\n",
    "    return ' '.join([i for i in text.split() if i  not in extra_word])\n",
    "\n",
    "final_df[\"clean_text_1\"]=final_df[\"clean_text\"].apply(lambda x: extra_word_remove(x))"
   ]
  },
  {
   "cell_type": "code",
   "execution_count": 184,
   "metadata": {},
   "outputs": [
    {
     "data": {
      "text/html": [
       "<div>\n",
       "<style scoped>\n",
       "    .dataframe tbody tr th:only-of-type {\n",
       "        vertical-align: middle;\n",
       "    }\n",
       "\n",
       "    .dataframe tbody tr th {\n",
       "        vertical-align: top;\n",
       "    }\n",
       "\n",
       "    .dataframe thead th {\n",
       "        text-align: right;\n",
       "    }\n",
       "</style>\n",
       "<table border=\"1\" class=\"dataframe\">\n",
       "  <thead>\n",
       "    <tr style=\"text-align: right;\">\n",
       "      <th></th>\n",
       "      <th>Score</th>\n",
       "      <th>Text</th>\n",
       "      <th>old_text</th>\n",
       "      <th>clean_text</th>\n",
       "      <th>target</th>\n",
       "      <th>clean_text_1</th>\n",
       "    </tr>\n",
       "  </thead>\n",
       "  <tbody>\n",
       "    <tr>\n",
       "      <th>0</th>\n",
       "      <td>5</td>\n",
       "      <td>I call this product, \"puppy crack\".  I have a ...</td>\n",
       "      <td>I call this product, \"puppy crack\".  I have a ...</td>\n",
       "      <td>call product puppy crack month old lab pup typ...</td>\n",
       "      <td>positive</td>\n",
       "      <td>call puppy crack month old lab pup type labrad...</td>\n",
       "    </tr>\n",
       "    <tr>\n",
       "      <th>1</th>\n",
       "      <td>5</td>\n",
       "      <td>For the longest time, I've found it difficult ...</td>\n",
       "      <td>For the longest time, I've found it difficult ...</td>\n",
       "      <td>longest time find difficult justify blow bowl ...</td>\n",
       "      <td>positive</td>\n",
       "      <td>longest time difficult justify blow bowl insta...</td>\n",
       "    </tr>\n",
       "    <tr>\n",
       "      <th>2</th>\n",
       "      <td>4</td>\n",
       "      <td>This is a good choice for anyone who likes sal...</td>\n",
       "      <td>This is a good choice for anyone who likes sal...</td>\n",
       "      <td>good choice anyone like salmon even never make...</td>\n",
       "      <td>positive</td>\n",
       "      <td>choice anyone salmon even never leap salmon ro...</td>\n",
       "    </tr>\n",
       "    <tr>\n",
       "      <th>3</th>\n",
       "      <td>4</td>\n",
       "      <td>I got this for my dog about a week ago because...</td>\n",
       "      <td>I got this for my dog about a week ago because...</td>\n",
       "      <td>get dog week ago eat food fast often want huma...</td>\n",
       "      <td>positive</td>\n",
       "      <td>week ago food fast often want humans sole sour...</td>\n",
       "    </tr>\n",
       "    <tr>\n",
       "      <th>4</th>\n",
       "      <td>4</td>\n",
       "      <td>I typically get the brownie crunch flavor, but...</td>\n",
       "      <td>I typically get the brownie crunch flavor, but...</td>\n",
       "      <td>typically get brownie crunch flavor happen gra...</td>\n",
       "      <td>positive</td>\n",
       "      <td>typically brownie crunch happen grab white cho...</td>\n",
       "    </tr>\n",
       "  </tbody>\n",
       "</table>\n",
       "</div>"
      ],
      "text/plain": [
       "   Score                                               Text  \\\n",
       "0      5  I call this product, \"puppy crack\".  I have a ...   \n",
       "1      5  For the longest time, I've found it difficult ...   \n",
       "2      4  This is a good choice for anyone who likes sal...   \n",
       "3      4  I got this for my dog about a week ago because...   \n",
       "4      4  I typically get the brownie crunch flavor, but...   \n",
       "\n",
       "                                            old_text  \\\n",
       "0  I call this product, \"puppy crack\".  I have a ...   \n",
       "1  For the longest time, I've found it difficult ...   \n",
       "2  This is a good choice for anyone who likes sal...   \n",
       "3  I got this for my dog about a week ago because...   \n",
       "4  I typically get the brownie crunch flavor, but...   \n",
       "\n",
       "                                          clean_text    target  \\\n",
       "0  call product puppy crack month old lab pup typ...  positive   \n",
       "1  longest time find difficult justify blow bowl ...  positive   \n",
       "2  good choice anyone like salmon even never make...  positive   \n",
       "3  get dog week ago eat food fast often want huma...  positive   \n",
       "4  typically get brownie crunch flavor happen gra...  positive   \n",
       "\n",
       "                                        clean_text_1  \n",
       "0  call puppy crack month old lab pup type labrad...  \n",
       "1  longest time difficult justify blow bowl insta...  \n",
       "2  choice anyone salmon even never leap salmon ro...  \n",
       "3  week ago food fast often want humans sole sour...  \n",
       "4  typically brownie crunch happen grab white cho...  "
      ]
     },
     "execution_count": 184,
     "metadata": {},
     "output_type": "execute_result"
    }
   ],
   "source": [
    "final_df.head()"
   ]
  },
  {
   "cell_type": "code",
   "execution_count": 187,
   "metadata": {
    "scrolled": true
   },
   "outputs": [
    {
     "data": {
      "text/plain": [
       "great     3052\n",
       "food      2185\n",
       "time      1778\n",
       "much      1652\n",
       "order     1578\n",
       "price     1550\n",
       "little    1531\n",
       "bag       1498\n",
       "drink     1493\n",
       "think     1481\n",
       "also      1473\n",
       "give      1453\n",
       "amazon    1453\n",
       "even      1384\n",
       "best      1334\n",
       "treat     1269\n",
       "add       1267\n",
       "better    1256\n",
       "say       1238\n",
       "well      1234\n",
       "water     1220\n",
       "store     1203\n",
       "come      1201\n",
       "want      1151\n",
       "look      1147\n",
       "cup       1127\n",
       "first     1123\n",
       "box       1075\n",
       "cat       1044\n",
       "could     1037\n",
       "dtype: int64"
      ]
     },
     "execution_count": 187,
     "metadata": {},
     "output_type": "execute_result"
    }
   ],
   "source": [
    "freq=pd.Series(' '.join(final_df[\"clean_text_1\"]).split()).value_counts()[:30]\n",
    "freq"
   ]
  },
  {
   "cell_type": "markdown",
   "metadata": {},
   "source": [
    "# word cloud for visulaization"
   ]
  },
  {
   "cell_type": "code",
   "execution_count": 205,
   "metadata": {},
   "outputs": [
    {
     "data": {
      "image/png": "[encoded data removed]",
      "text/plain": [
       "<Figure size 864x864 with 1 Axes>"
      ]
     },
     "metadata": {
      "needs_background": "light"
     },
     "output_type": "display_data"
    }
   ],
   "source": [
    "from wordcloud import WordCloud, STOPWORDS\n",
    "import matplotlib.pyplot as plt\n",
    "stopwords = set(STOPWORDS)\n",
    "\n",
    "def show_wordcloud(data, title = None):\n",
    "    wordcloud = WordCloud(\n",
    "        background_color='white',\n",
    "        stopwords=stopwords,\n",
    "        max_words=500,\n",
    "        max_font_size=40, \n",
    "        scale=3,\n",
    "        random_state=1 # chosen at random by flipping a coin; it was heads\n",
    "    ).generate(str(data))\n",
    "\n",
    "    fig = plt.figure(1, figsize=(12, 12))\n",
    "    plt.axis('off')\n",
    "    if title: \n",
    "        fig.suptitle(title, fontsize=20)\n",
    "        fig.subplots_adjust(top=2.3)\n",
    "\n",
    "    plt.imshow(wordcloud)\n",
    "    plt.show()\n",
    "\n",
    "show_wordcloud(final_df['clean_text_1'])\n",
    "# show_wordcloud(Samsung_Reviews_positive['Reviews'])"
   ]
  },
  {
   "cell_type": "code",
   "execution_count": 206,
   "metadata": {},
   "outputs": [
    {
     "data": {
      "image/png": "[encoded data removed]",
      "text/plain": [
       "<Figure size 864x864 with 1 Axes>"
      ]
     },
     "metadata": {
      "needs_background": "light"
     },
     "output_type": "display_data"
    }
   ],
   "source": [
    "#### word  cloud for positive review\n",
    "show_wordcloud(freq_positive_review)"
   ]
  },
  {
   "cell_type": "code",
   "execution_count": 207,
   "metadata": {},
   "outputs": [
    {
     "data": {
      "image/png": "[encoded data removed]",
      "text/plain": [
       "<Figure size 864x864 with 1 Axes>"
      ]
     },
     "metadata": {
      "needs_background": "light"
     },
     "output_type": "display_data"
    }
   ],
   "source": [
    "#### word  cloud for freq_negative_review\n",
    "show_wordcloud(freq_negative_review)"
   ]
  },
  {
   "cell_type": "code",
   "execution_count": 208,
   "metadata": {},
   "outputs": [
    {
     "data": {
      "image/png": "[encoded data removed]",
      "text/plain": [
       "<Figure size 864x864 with 1 Axes>"
      ]
     },
     "metadata": {
      "needs_background": "light"
     },
     "output_type": "display_data"
    }
   ],
   "source": [
    "#### word  cloud for freq_neutral_review\n",
    "show_wordcloud(freq_neutral_review)"
   ]
  },
  {
   "cell_type": "code",
   "execution_count": 188,
   "metadata": {},
   "outputs": [],
   "source": [
    "#### finally data cleanning is done\n",
    "### lets save the final df in csv \n",
    "final_df.to_csv(\"final_clean_data.csv\",index=False)"
   ]
  }
 ],
 "metadata": {
  "kernelspec": {
   "display_name": "Python 3",
   "language": "python",
   "name": "python3"
  },
  "language_info": {
   "codemirror_mode": {
    "name": "ipython",
    "version": 3
   },
   "file_extension": ".py",
   "mimetype": "text/x-python",
   "name": "python",
   "nbconvert_exporter": "python",
   "pygments_lexer": "ipython3",
   "version": "3.7.6"
  }
 },
 "nbformat": 4,
 "nbformat_minor": 4
}
